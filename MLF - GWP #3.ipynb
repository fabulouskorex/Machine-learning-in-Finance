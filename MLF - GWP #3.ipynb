{
 "cells": [
  {
   "cell_type": "markdown",
   "id": "bea9d36b",
   "metadata": {},
   "source": [
    "# GWP - Submission 3"
   ]
  },
  {
   "cell_type": "markdown",
   "id": "d88f013b",
   "metadata": {},
   "source": [
    "# 1. Data Importing and Selection"
   ]
  },
  {
   "cell_type": "code",
   "execution_count": 84,
   "id": "f6ca9eac",
   "metadata": {},
   "outputs": [],
   "source": [
    "import pandas as pd\n",
    "import statsmodels.api as sm\n",
    "import matplotlib.pyplot as plt\n",
    "import numpy as np\n",
    "from scipy.stats import multivariate_normal\n",
    "from mpl_toolkits import mplot3d\n",
    "import seaborn as sns\n",
    "import pylab as py\n",
    "from sklearn.linear_model import Lasso\n",
    "from sklearn.model_selection import train_test_split\n",
    "from statsmodels.tsa.statespace.varmax import VARMAX\n",
    "from sklearn.preprocessing import StandardScaler\n",
    "import random\n",
    "import tensorflow.compat.v1 as tf\n",
    "import numpy as np\n",
    "import IPython.display\n",
    "from sklearn.metrics import confusion_matrix\n",
    "from tensorflow.keras import Sequential\n",
    "from tensorflow.keras.layers import Dense, Dropout\n",
    "from tensorflow.keras.losses import MeanSquaredLogarithmicError\n",
    "from tensorflow.keras.optimizers import Adam\n",
    "from keras.layers import LSTM,Dense"
   ]
  },
  {
   "cell_type": "code",
   "execution_count": null,
   "id": "7445b152",
   "metadata": {},
   "outputs": [],
   "source": []
  },
  {
   "cell_type": "markdown",
   "id": "4eca2940",
   "metadata": {},
   "source": [
    "#### 1.1 From the previous assignment, re-import the data from the csv file"
   ]
  },
  {
   "cell_type": "code",
   "execution_count": 10,
   "id": "68cf8991",
   "metadata": {},
   "outputs": [
    {
     "data": {
      "text/html": [
       "<div>\n",
       "<style scoped>\n",
       "    .dataframe tbody tr th:only-of-type {\n",
       "        vertical-align: middle;\n",
       "    }\n",
       "\n",
       "    .dataframe tbody tr th {\n",
       "        vertical-align: top;\n",
       "    }\n",
       "\n",
       "    .dataframe thead th {\n",
       "        text-align: right;\n",
       "    }\n",
       "</style>\n",
       "<table border=\"1\" class=\"dataframe\">\n",
       "  <thead>\n",
       "    <tr style=\"text-align: right;\">\n",
       "      <th></th>\n",
       "      <th>Date</th>\n",
       "      <th>LUXXX</th>\n",
       "      <th>MSCI ARGENTINA</th>\n",
       "      <th>BLP ORIENTE MEDIO</th>\n",
       "      <th>MSCI AUSTRALIA</th>\n",
       "      <th>MSCI AUSTRIA</th>\n",
       "      <th>MSCI BELGIUM</th>\n",
       "      <th>MSCI BRAZIL</th>\n",
       "      <th>MSCI CANADA</th>\n",
       "      <th>MSCI CHINA</th>\n",
       "      <th>...</th>\n",
       "      <th>MSCI NORWAY</th>\n",
       "      <th>MSCI PERU</th>\n",
       "      <th>MSCI RUSSIA</th>\n",
       "      <th>MSCI SINGAPORE</th>\n",
       "      <th>MSCI SOUTH AFRICA</th>\n",
       "      <th>MSCI SPAIN</th>\n",
       "      <th>MSCI SWEDEN</th>\n",
       "      <th>MSCI SWITZERLAND</th>\n",
       "      <th>MSCI UK</th>\n",
       "      <th>MSCI USA</th>\n",
       "    </tr>\n",
       "  </thead>\n",
       "  <tbody>\n",
       "    <tr>\n",
       "      <th>0</th>\n",
       "      <td>1-Jan-16</td>\n",
       "      <td>1390.716</td>\n",
       "      <td>2376.29</td>\n",
       "      <td>3525.9150</td>\n",
       "      <td>1068.79</td>\n",
       "      <td>106.70</td>\n",
       "      <td>105.38</td>\n",
       "      <td>1036.23</td>\n",
       "      <td>1663.27</td>\n",
       "      <td>59.47</td>\n",
       "      <td>...</td>\n",
       "      <td>2373.17</td>\n",
       "      <td>811.96</td>\n",
       "      <td>404.73</td>\n",
       "      <td>1507.8101</td>\n",
       "      <td>1255.75</td>\n",
       "      <td>108.40</td>\n",
       "      <td>11136.65</td>\n",
       "      <td>1148.37</td>\n",
       "      <td>1818.40</td>\n",
       "      <td>1949.70</td>\n",
       "    </tr>\n",
       "    <tr>\n",
       "      <th>1</th>\n",
       "      <td>8-Jan-16</td>\n",
       "      <td>1291.267</td>\n",
       "      <td>2260.85</td>\n",
       "      <td>3280.6683</td>\n",
       "      <td>1005.56</td>\n",
       "      <td>97.66</td>\n",
       "      <td>99.35</td>\n",
       "      <td>952.01</td>\n",
       "      <td>1586.18</td>\n",
       "      <td>54.63</td>\n",
       "      <td>...</td>\n",
       "      <td>2209.38</td>\n",
       "      <td>751.09</td>\n",
       "      <td>388.05</td>\n",
       "      <td>1437.6600</td>\n",
       "      <td>1177.76</td>\n",
       "      <td>101.00</td>\n",
       "      <td>10389.93</td>\n",
       "      <td>1075.30</td>\n",
       "      <td>1722.00</td>\n",
       "      <td>1831.88</td>\n",
       "    </tr>\n",
       "    <tr>\n",
       "      <th>2</th>\n",
       "      <td>15-Jan-16</td>\n",
       "      <td>1257.086</td>\n",
       "      <td>2217.50</td>\n",
       "      <td>3118.2981</td>\n",
       "      <td>985.38</td>\n",
       "      <td>93.54</td>\n",
       "      <td>97.32</td>\n",
       "      <td>904.64</td>\n",
       "      <td>1541.08</td>\n",
       "      <td>51.54</td>\n",
       "      <td>...</td>\n",
       "      <td>2095.60</td>\n",
       "      <td>720.23</td>\n",
       "      <td>344.45</td>\n",
       "      <td>1372.9800</td>\n",
       "      <td>1133.72</td>\n",
       "      <td>97.34</td>\n",
       "      <td>10042.32</td>\n",
       "      <td>1056.01</td>\n",
       "      <td>1692.43</td>\n",
       "      <td>1789.56</td>\n",
       "    </tr>\n",
       "    <tr>\n",
       "      <th>3</th>\n",
       "      <td>22-Jan-16</td>\n",
       "      <td>1254.167</td>\n",
       "      <td>2281.98</td>\n",
       "      <td>2935.0677</td>\n",
       "      <td>985.87</td>\n",
       "      <td>95.79</td>\n",
       "      <td>100.73</td>\n",
       "      <td>879.17</td>\n",
       "      <td>1582.10</td>\n",
       "      <td>51.15</td>\n",
       "      <td>...</td>\n",
       "      <td>2173.55</td>\n",
       "      <td>745.96</td>\n",
       "      <td>367.44</td>\n",
       "      <td>1350.0500</td>\n",
       "      <td>1160.48</td>\n",
       "      <td>99.21</td>\n",
       "      <td>10469.07</td>\n",
       "      <td>1076.48</td>\n",
       "      <td>1719.61</td>\n",
       "      <td>1814.12</td>\n",
       "    </tr>\n",
       "    <tr>\n",
       "      <th>4</th>\n",
       "      <td>29-Jan-16</td>\n",
       "      <td>1298.240</td>\n",
       "      <td>2462.19</td>\n",
       "      <td>3134.0840</td>\n",
       "      <td>1005.56</td>\n",
       "      <td>96.93</td>\n",
       "      <td>103.05</td>\n",
       "      <td>958.97</td>\n",
       "      <td>1638.84</td>\n",
       "      <td>52.13</td>\n",
       "      <td>...</td>\n",
       "      <td>2214.88</td>\n",
       "      <td>825.18</td>\n",
       "      <td>400.93</td>\n",
       "      <td>1375.1000</td>\n",
       "      <td>1239.58</td>\n",
       "      <td>100.06</td>\n",
       "      <td>10432.42</td>\n",
       "      <td>1087.17</td>\n",
       "      <td>1774.40</td>\n",
       "      <td>1843.88</td>\n",
       "    </tr>\n",
       "  </tbody>\n",
       "</table>\n",
       "<p>5 rows × 36 columns</p>\n",
       "</div>"
      ],
      "text/plain": [
       "        Date     LUXXX  MSCI ARGENTINA  BLP ORIENTE MEDIO  MSCI AUSTRALIA  \\\n",
       "0   1-Jan-16  1390.716         2376.29          3525.9150         1068.79   \n",
       "1   8-Jan-16  1291.267         2260.85          3280.6683         1005.56   \n",
       "2  15-Jan-16  1257.086         2217.50          3118.2981          985.38   \n",
       "3  22-Jan-16  1254.167         2281.98          2935.0677          985.87   \n",
       "4  29-Jan-16  1298.240         2462.19          3134.0840         1005.56   \n",
       "\n",
       "   MSCI AUSTRIA  MSCI BELGIUM  MSCI BRAZIL  MSCI CANADA  MSCI CHINA  ...  \\\n",
       "0        106.70        105.38      1036.23      1663.27       59.47  ...   \n",
       "1         97.66         99.35       952.01      1586.18       54.63  ...   \n",
       "2         93.54         97.32       904.64      1541.08       51.54  ...   \n",
       "3         95.79        100.73       879.17      1582.10       51.15  ...   \n",
       "4         96.93        103.05       958.97      1638.84       52.13  ...   \n",
       "\n",
       "   MSCI NORWAY  MSCI PERU  MSCI RUSSIA  MSCI SINGAPORE  MSCI SOUTH AFRICA  \\\n",
       "0      2373.17     811.96       404.73       1507.8101            1255.75   \n",
       "1      2209.38     751.09       388.05       1437.6600            1177.76   \n",
       "2      2095.60     720.23       344.45       1372.9800            1133.72   \n",
       "3      2173.55     745.96       367.44       1350.0500            1160.48   \n",
       "4      2214.88     825.18       400.93       1375.1000            1239.58   \n",
       "\n",
       "   MSCI SPAIN  MSCI SWEDEN  MSCI SWITZERLAND  MSCI UK  MSCI USA  \n",
       "0      108.40     11136.65           1148.37  1818.40   1949.70  \n",
       "1      101.00     10389.93           1075.30  1722.00   1831.88  \n",
       "2       97.34     10042.32           1056.01  1692.43   1789.56  \n",
       "3       99.21     10469.07           1076.48  1719.61   1814.12  \n",
       "4      100.06     10432.42           1087.17  1774.40   1843.88  \n",
       "\n",
       "[5 rows x 36 columns]"
      ]
     },
     "execution_count": 10,
     "metadata": {},
     "output_type": "execute_result"
    }
   ],
   "source": [
    "#dframe = pd.read_csv('MScFE 650 MLF GWP Data.csv',index_col =\"Date\")\n",
    "dframe = pd.read_csv('MScFE 650 MLF GWP Data.csv')\n",
    "dframe.head()"
   ]
  },
  {
   "cell_type": "markdown",
   "id": "42ec3c74",
   "metadata": {},
   "source": [
    "#### 1.2 Choose one of the 35 variables to serve as your response variable (e.g. LUXXX).  Choose the same one that your group used in the previous assignment"
   ]
  },
  {
   "cell_type": "code",
   "execution_count": 11,
   "id": "1ec82070",
   "metadata": {},
   "outputs": [],
   "source": [
    "y = dframe['LUXXX']"
   ]
  },
  {
   "cell_type": "markdown",
   "id": "0191b512",
   "metadata": {},
   "source": [
    "# 2. Measuring Skewness"
   ]
  },
  {
   "cell_type": "markdown",
   "id": "72a72e21",
   "metadata": {},
   "source": [
    "#### 2.1 Calculate the skewness of each return series"
   ]
  },
  {
   "cell_type": "code",
   "execution_count": 12,
   "id": "4a8d1e07",
   "metadata": {},
   "outputs": [
    {
     "name": "stderr",
     "output_type": "stream",
     "text": [
      "/home/fabulouskorex/anaconda3/lib/python3.7/site-packages/ipykernel_launcher.py:1: FutureWarning: Dropping of nuisance columns in DataFrame reductions (with 'numeric_only=None') is deprecated; in a future version this will raise TypeError.  Select only valid columns before calling the reduction.\n",
      "  \"\"\"Entry point for launching an IPython kernel.\n"
     ]
    },
    {
     "data": {
      "text/plain": [
       "LUXXX                    -0.748022\n",
       "MSCI ARGENTINA            0.276295\n",
       "BLP ORIENTE MEDIO        -0.600944\n",
       "MSCI AUSTRALIA            0.172421\n",
       "MSCI AUSTRIA             -0.157180\n",
       "MSCI BELGIUM             -1.096933\n",
       "MSCI BRAZIL              -0.552434\n",
       "MSCI CANADA              -0.840165\n",
       "MSCI CHINA               -0.211234\n",
       "MSCI DENMARK              1.377058\n",
       "MSCI EM ASIA             -0.321214\n",
       "MSCI EM EU-MIDE-AFRICA   -0.273787\n",
       "MSCI EM EUROPE           -0.104967\n",
       "MSCI EM LATIN AMERICA    -0.754882\n",
       "MSCI FINLAND             -0.652834\n",
       "MSCI FRANCE              -0.228204\n",
       "MSCI GERMANY             -0.512120\n",
       "MSCI HONG KONG           -0.335210\n",
       "MSCI INDIA               -0.425588\n",
       "MSCI ITALY               -0.193540\n",
       "MSCI JAPAN               -0.440382\n",
       "MSCI KOREA               -0.196455\n",
       "MSCI MEXICO              -0.870290\n",
       "MSCI NETHERLANDS         -0.059940\n",
       "MSCI NEW ZEALAND          0.969189\n",
       "MSCI NORWAY              -0.382707\n",
       "MSCI PERU                -0.407554\n",
       "MSCI RUSSIA               0.161888\n",
       "MSCI SINGAPORE           -0.256414\n",
       "MSCI SOUTH AFRICA        -0.564107\n",
       "MSCI SPAIN               -0.655240\n",
       "MSCI SWEDEN              -0.176503\n",
       "MSCI SWITZERLAND          0.252066\n",
       "MSCI UK                  -0.956429\n",
       "MSCI USA                  0.068945\n",
       "dtype: float64"
      ]
     },
     "execution_count": 12,
     "metadata": {},
     "output_type": "execute_result"
    }
   ],
   "source": [
    "dframe.skew()"
   ]
  },
  {
   "cell_type": "markdown",
   "id": "6353dee7",
   "metadata": {},
   "source": [
    "#### 2.2 Calculate the difference between the mean and the median for each series "
   ]
  },
  {
   "cell_type": "code",
   "execution_count": 13,
   "id": "e617e022",
   "metadata": {},
   "outputs": [
    {
     "name": "stderr",
     "output_type": "stream",
     "text": [
      "/home/fabulouskorex/anaconda3/lib/python3.7/site-packages/ipykernel_launcher.py:1: FutureWarning: Dropping of nuisance columns in DataFrame reductions (with 'numeric_only=None') is deprecated; in a future version this will raise TypeError.  Select only valid columns before calling the reduction.\n",
      "  \"\"\"Entry point for launching an IPython kernel.\n"
     ]
    },
    {
     "data": {
      "text/plain": [
       "LUXXX                     -33.849095\n",
       "MSCI ARGENTINA            -15.322738\n",
       "BLP ORIENTE MEDIO         -83.931072\n",
       "MSCI AUSTRALIA              6.565159\n",
       "MSCI AUSTRIA               -3.216111\n",
       "MSCI BELGIUM               -3.724762\n",
       "MSCI BRAZIL               -46.970833\n",
       "MSCI CANADA               -19.808373\n",
       "MSCI CHINA                 -1.921786\n",
       "MSCI DENMARK              219.852738\n",
       "MSCI EM ASIA               -7.896944\n",
       "MSCI EM EU-MIDE-AFRICA     -4.086091\n",
       "MSCI EM EUROPE             -2.345357\n",
       "MSCI EM LATIN AMERICA     -96.492262\n",
       "MSCI FINLAND               -2.194722\n",
       "MSCI FRANCE                -2.164524\n",
       "MSCI GERMANY               -1.122103\n",
       "MSCI HONG KONG           -125.678849\n",
       "MSCI INDIA                -43.322024\n",
       "MSCI ITALY                 -0.160873\n",
       "MSCI JAPAN                 -9.907857\n",
       "MSCI KOREA                 -2.258095\n",
       "MSCI MEXICO               -73.685000\n",
       "MSCI NETHERLANDS           -1.686825\n",
       "MSCI NEW ZEALAND           10.054444\n",
       "MSCI NORWAY               -74.667817\n",
       "MSCI PERU                 -94.627183\n",
       "MSCI RUSSIA                 1.082738\n",
       "MSCI SINGAPORE            -48.059245\n",
       "MSCI SOUTH AFRICA          -2.966865\n",
       "MSCI SPAIN                 -2.606587\n",
       "MSCI SWEDEN              -141.255952\n",
       "MSCI SWITZERLAND           13.266468\n",
       "MSCI UK                   -68.507421\n",
       "MSCI USA                  -32.631468\n",
       "dtype: float64"
      ]
     },
     "execution_count": 13,
     "metadata": {},
     "output_type": "execute_result"
    }
   ],
   "source": [
    "dframe.mean() - dframe.median()"
   ]
  },
  {
   "cell_type": "code",
   "execution_count": 14,
   "id": "8d44aec5",
   "metadata": {},
   "outputs": [
    {
     "name": "stderr",
     "output_type": "stream",
     "text": [
      "/home/fabulouskorex/anaconda3/lib/python3.7/site-packages/ipykernel_launcher.py:1: FutureWarning: Dropping of nuisance columns in DataFrame reductions (with 'numeric_only=None') is deprecated; in a future version this will raise TypeError.  Select only valid columns before calling the reduction.\n",
      "  \"\"\"Entry point for launching an IPython kernel.\n"
     ]
    },
    {
     "data": {
      "text/html": [
       "<div>\n",
       "<style scoped>\n",
       "    .dataframe tbody tr th:only-of-type {\n",
       "        vertical-align: middle;\n",
       "    }\n",
       "\n",
       "    .dataframe tbody tr th {\n",
       "        vertical-align: top;\n",
       "    }\n",
       "\n",
       "    .dataframe thead th {\n",
       "        text-align: right;\n",
       "    }\n",
       "</style>\n",
       "<table border=\"1\" class=\"dataframe\">\n",
       "  <thead>\n",
       "    <tr style=\"text-align: right;\">\n",
       "      <th></th>\n",
       "      <th>0</th>\n",
       "      <th>1</th>\n",
       "    </tr>\n",
       "  </thead>\n",
       "  <tbody>\n",
       "    <tr>\n",
       "      <th>LUXXX</th>\n",
       "      <td>-33.849095</td>\n",
       "      <td>-0.748022</td>\n",
       "    </tr>\n",
       "    <tr>\n",
       "      <th>MSCI ARGENTINA</th>\n",
       "      <td>-15.322738</td>\n",
       "      <td>0.276295</td>\n",
       "    </tr>\n",
       "    <tr>\n",
       "      <th>BLP ORIENTE MEDIO</th>\n",
       "      <td>-83.931072</td>\n",
       "      <td>-0.600944</td>\n",
       "    </tr>\n",
       "    <tr>\n",
       "      <th>MSCI AUSTRALIA</th>\n",
       "      <td>6.565159</td>\n",
       "      <td>0.172421</td>\n",
       "    </tr>\n",
       "    <tr>\n",
       "      <th>MSCI AUSTRIA</th>\n",
       "      <td>-3.216111</td>\n",
       "      <td>-0.157180</td>\n",
       "    </tr>\n",
       "    <tr>\n",
       "      <th>MSCI BELGIUM</th>\n",
       "      <td>-3.724762</td>\n",
       "      <td>-1.096933</td>\n",
       "    </tr>\n",
       "    <tr>\n",
       "      <th>MSCI BRAZIL</th>\n",
       "      <td>-46.970833</td>\n",
       "      <td>-0.552434</td>\n",
       "    </tr>\n",
       "    <tr>\n",
       "      <th>MSCI CANADA</th>\n",
       "      <td>-19.808373</td>\n",
       "      <td>-0.840165</td>\n",
       "    </tr>\n",
       "    <tr>\n",
       "      <th>MSCI CHINA</th>\n",
       "      <td>-1.921786</td>\n",
       "      <td>-0.211234</td>\n",
       "    </tr>\n",
       "    <tr>\n",
       "      <th>MSCI DENMARK</th>\n",
       "      <td>219.852738</td>\n",
       "      <td>1.377058</td>\n",
       "    </tr>\n",
       "    <tr>\n",
       "      <th>MSCI EM ASIA</th>\n",
       "      <td>-7.896944</td>\n",
       "      <td>-0.321214</td>\n",
       "    </tr>\n",
       "    <tr>\n",
       "      <th>MSCI EM EU-MIDE-AFRICA</th>\n",
       "      <td>-4.086091</td>\n",
       "      <td>-0.273787</td>\n",
       "    </tr>\n",
       "    <tr>\n",
       "      <th>MSCI EM EUROPE</th>\n",
       "      <td>-2.345357</td>\n",
       "      <td>-0.104967</td>\n",
       "    </tr>\n",
       "    <tr>\n",
       "      <th>MSCI EM LATIN AMERICA</th>\n",
       "      <td>-96.492262</td>\n",
       "      <td>-0.754882</td>\n",
       "    </tr>\n",
       "    <tr>\n",
       "      <th>MSCI FINLAND</th>\n",
       "      <td>-2.194722</td>\n",
       "      <td>-0.652834</td>\n",
       "    </tr>\n",
       "    <tr>\n",
       "      <th>MSCI FRANCE</th>\n",
       "      <td>-2.164524</td>\n",
       "      <td>-0.228204</td>\n",
       "    </tr>\n",
       "    <tr>\n",
       "      <th>MSCI GERMANY</th>\n",
       "      <td>-1.122103</td>\n",
       "      <td>-0.512120</td>\n",
       "    </tr>\n",
       "    <tr>\n",
       "      <th>MSCI HONG KONG</th>\n",
       "      <td>-125.678849</td>\n",
       "      <td>-0.335210</td>\n",
       "    </tr>\n",
       "    <tr>\n",
       "      <th>MSCI INDIA</th>\n",
       "      <td>-43.322024</td>\n",
       "      <td>-0.425588</td>\n",
       "    </tr>\n",
       "    <tr>\n",
       "      <th>MSCI ITALY</th>\n",
       "      <td>-0.160873</td>\n",
       "      <td>-0.193540</td>\n",
       "    </tr>\n",
       "    <tr>\n",
       "      <th>MSCI JAPAN</th>\n",
       "      <td>-9.907857</td>\n",
       "      <td>-0.440382</td>\n",
       "    </tr>\n",
       "    <tr>\n",
       "      <th>MSCI KOREA</th>\n",
       "      <td>-2.258095</td>\n",
       "      <td>-0.196455</td>\n",
       "    </tr>\n",
       "    <tr>\n",
       "      <th>MSCI MEXICO</th>\n",
       "      <td>-73.685000</td>\n",
       "      <td>-0.870290</td>\n",
       "    </tr>\n",
       "    <tr>\n",
       "      <th>MSCI NETHERLANDS</th>\n",
       "      <td>-1.686825</td>\n",
       "      <td>-0.059940</td>\n",
       "    </tr>\n",
       "    <tr>\n",
       "      <th>MSCI NEW ZEALAND</th>\n",
       "      <td>10.054444</td>\n",
       "      <td>0.969189</td>\n",
       "    </tr>\n",
       "    <tr>\n",
       "      <th>MSCI NORWAY</th>\n",
       "      <td>-74.667817</td>\n",
       "      <td>-0.382707</td>\n",
       "    </tr>\n",
       "    <tr>\n",
       "      <th>MSCI PERU</th>\n",
       "      <td>-94.627183</td>\n",
       "      <td>-0.407554</td>\n",
       "    </tr>\n",
       "    <tr>\n",
       "      <th>MSCI RUSSIA</th>\n",
       "      <td>1.082738</td>\n",
       "      <td>0.161888</td>\n",
       "    </tr>\n",
       "    <tr>\n",
       "      <th>MSCI SINGAPORE</th>\n",
       "      <td>-48.059245</td>\n",
       "      <td>-0.256414</td>\n",
       "    </tr>\n",
       "    <tr>\n",
       "      <th>MSCI SOUTH AFRICA</th>\n",
       "      <td>-2.966865</td>\n",
       "      <td>-0.564107</td>\n",
       "    </tr>\n",
       "    <tr>\n",
       "      <th>MSCI SPAIN</th>\n",
       "      <td>-2.606587</td>\n",
       "      <td>-0.655240</td>\n",
       "    </tr>\n",
       "    <tr>\n",
       "      <th>MSCI SWEDEN</th>\n",
       "      <td>-141.255952</td>\n",
       "      <td>-0.176503</td>\n",
       "    </tr>\n",
       "    <tr>\n",
       "      <th>MSCI SWITZERLAND</th>\n",
       "      <td>13.266468</td>\n",
       "      <td>0.252066</td>\n",
       "    </tr>\n",
       "    <tr>\n",
       "      <th>MSCI UK</th>\n",
       "      <td>-68.507421</td>\n",
       "      <td>-0.956429</td>\n",
       "    </tr>\n",
       "    <tr>\n",
       "      <th>MSCI USA</th>\n",
       "      <td>-32.631468</td>\n",
       "      <td>0.068945</td>\n",
       "    </tr>\n",
       "  </tbody>\n",
       "</table>\n",
       "</div>"
      ],
      "text/plain": [
       "                                 0         1\n",
       "LUXXX                   -33.849095 -0.748022\n",
       "MSCI ARGENTINA          -15.322738  0.276295\n",
       "BLP ORIENTE MEDIO       -83.931072 -0.600944\n",
       "MSCI AUSTRALIA            6.565159  0.172421\n",
       "MSCI AUSTRIA             -3.216111 -0.157180\n",
       "MSCI BELGIUM             -3.724762 -1.096933\n",
       "MSCI BRAZIL             -46.970833 -0.552434\n",
       "MSCI CANADA             -19.808373 -0.840165\n",
       "MSCI CHINA               -1.921786 -0.211234\n",
       "MSCI DENMARK            219.852738  1.377058\n",
       "MSCI EM ASIA             -7.896944 -0.321214\n",
       "MSCI EM EU-MIDE-AFRICA   -4.086091 -0.273787\n",
       "MSCI EM EUROPE           -2.345357 -0.104967\n",
       "MSCI EM LATIN AMERICA   -96.492262 -0.754882\n",
       "MSCI FINLAND             -2.194722 -0.652834\n",
       "MSCI FRANCE              -2.164524 -0.228204\n",
       "MSCI GERMANY             -1.122103 -0.512120\n",
       "MSCI HONG KONG         -125.678849 -0.335210\n",
       "MSCI INDIA              -43.322024 -0.425588\n",
       "MSCI ITALY               -0.160873 -0.193540\n",
       "MSCI JAPAN               -9.907857 -0.440382\n",
       "MSCI KOREA               -2.258095 -0.196455\n",
       "MSCI MEXICO             -73.685000 -0.870290\n",
       "MSCI NETHERLANDS         -1.686825 -0.059940\n",
       "MSCI NEW ZEALAND         10.054444  0.969189\n",
       "MSCI NORWAY             -74.667817 -0.382707\n",
       "MSCI PERU               -94.627183 -0.407554\n",
       "MSCI RUSSIA               1.082738  0.161888\n",
       "MSCI SINGAPORE          -48.059245 -0.256414\n",
       "MSCI SOUTH AFRICA        -2.966865 -0.564107\n",
       "MSCI SPAIN               -2.606587 -0.655240\n",
       "MSCI SWEDEN            -141.255952 -0.176503\n",
       "MSCI SWITZERLAND         13.266468  0.252066\n",
       "MSCI UK                 -68.507421 -0.956429\n",
       "MSCI USA                -32.631468  0.068945"
      ]
     },
     "execution_count": 14,
     "metadata": {},
     "output_type": "execute_result"
    }
   ],
   "source": [
    "pd.concat([(dframe.mean() - dframe.median()), dframe.skew()], axis=1)"
   ]
  },
  {
   "cell_type": "markdown",
   "id": "b30b56fa",
   "metadata": {},
   "source": [
    "#### 2.3 How do the skewness and the (mean-median) difference compare?"
   ]
  },
  {
   "cell_type": "markdown",
   "id": "604a499f",
   "metadata": {},
   "source": [
    "We observed that the signs(positive and negative) are the same. Also, they are in decimals. "
   ]
  },
  {
   "cell_type": "markdown",
   "id": "c70c4ee2",
   "metadata": {},
   "source": [
    "# 3. Structural Breaks and Kurtosis"
   ]
  },
  {
   "cell_type": "markdown",
   "id": "5c628bf4",
   "metadata": {},
   "source": [
    "#### 3.1 Calculate the kurtosis for your response return series"
   ]
  },
  {
   "cell_type": "code",
   "execution_count": 15,
   "id": "6f0829cd",
   "metadata": {},
   "outputs": [
    {
     "name": "stderr",
     "output_type": "stream",
     "text": [
      "/home/fabulouskorex/anaconda3/lib/python3.7/site-packages/ipykernel_launcher.py:1: FutureWarning: Dropping of nuisance columns in DataFrame reductions (with 'numeric_only=None') is deprecated; in a future version this will raise TypeError.  Select only valid columns before calling the reduction.\n",
      "  \"\"\"Entry point for launching an IPython kernel.\n"
     ]
    },
    {
     "data": {
      "text/plain": [
       "LUXXX                    -0.346826\n",
       "MSCI ARGENTINA           -0.749353\n",
       "BLP ORIENTE MEDIO        -0.552195\n",
       "MSCI AUSTRALIA           -0.213729\n",
       "MSCI AUSTRIA             -1.079038\n",
       "MSCI BELGIUM              0.281762\n",
       "MSCI BRAZIL              -0.389455\n",
       "MSCI CANADA               0.549749\n",
       "MSCI CHINA               -0.796897\n",
       "MSCI DENMARK              1.784841\n",
       "MSCI EM ASIA             -0.701812\n",
       "MSCI EM EU-MIDE-AFRICA    0.433917\n",
       "MSCI EM EUROPE           -0.411061\n",
       "MSCI EM LATIN AMERICA    -0.172098\n",
       "MSCI FINLAND             -0.347102\n",
       "MSCI FRANCE              -0.714189\n",
       "MSCI GERMANY             -0.021322\n",
       "MSCI HONG KONG           -0.730340\n",
       "MSCI INDIA               -0.980302\n",
       "MSCI ITALY               -0.898782\n",
       "MSCI JAPAN               -0.440768\n",
       "MSCI KOREA               -0.965059\n",
       "MSCI MEXICO               0.331357\n",
       "MSCI NETHERLANDS         -0.669791\n",
       "MSCI NEW ZEALAND         -0.203214\n",
       "MSCI NORWAY              -1.210283\n",
       "MSCI PERU                -0.902463\n",
       "MSCI RUSSIA               0.345371\n",
       "MSCI SINGAPORE           -0.927063\n",
       "MSCI SOUTH AFRICA         2.003416\n",
       "MSCI SPAIN               -0.168800\n",
       "MSCI SWEDEN              -0.358471\n",
       "MSCI SWITZERLAND         -0.738482\n",
       "MSCI UK                  -0.251453\n",
       "MSCI USA                 -0.687980\n",
       "dtype: float64"
      ]
     },
     "execution_count": 15,
     "metadata": {},
     "output_type": "execute_result"
    }
   ],
   "source": [
    "dframe.kurt()"
   ]
  },
  {
   "cell_type": "markdown",
   "id": "5541c046",
   "metadata": {},
   "source": [
    "#### 3.2 Run a threshold regression model to identify at least 1 regime shift."
   ]
  },
  {
   "cell_type": "code",
   "execution_count": 16,
   "id": "4848faf8",
   "metadata": {},
   "outputs": [
    {
     "data": {
      "text/html": [
       "<table class=\"simpletable\">\n",
       "<caption>Markov Switching Model Results</caption>\n",
       "<tr>\n",
       "  <th>Dep. Variable:</th>         <td>LUXXX</td>      <th>  No. Observations:  </th>    <td>252</td>   \n",
       "</tr>\n",
       "<tr>\n",
       "  <th>Model:</th>           <td>MarkovRegression</td> <th>  Log Likelihood     </th> <td>-1629.403</td>\n",
       "</tr>\n",
       "<tr>\n",
       "  <th>Date:</th>            <td>Mon, 18 Oct 2021</td> <th>  AIC                </th> <td>3268.806</td> \n",
       "</tr>\n",
       "<tr>\n",
       "  <th>Time:</th>                <td>23:37:26</td>     <th>  BIC                </th> <td>3286.454</td> \n",
       "</tr>\n",
       "<tr>\n",
       "  <th>Sample:</th>                  <td>0</td>        <th>  HQIC               </th> <td>3275.907</td> \n",
       "</tr>\n",
       "<tr>\n",
       "  <th></th>                      <td> - 252</td>      <th>                     </th>     <td> </td>    \n",
       "</tr>\n",
       "<tr>\n",
       "  <th>Covariance Type:</th>      <td>approx</td>      <th>                     </th>     <td> </td>    \n",
       "</tr>\n",
       "</table>\n",
       "<table class=\"simpletable\">\n",
       "<caption>Regime 0 parameters</caption>\n",
       "<tr>\n",
       "    <td></td>       <th>coef</th>     <th>std err</th>      <th>z</th>      <th>P>|z|</th>  <th>[0.025</th>    <th>0.975]</th>  \n",
       "</tr>\n",
       "<tr>\n",
       "  <th>const</th> <td>  998.6616</td> <td>   27.422</td> <td>   36.418</td> <td> 0.000</td> <td>  944.916</td> <td> 1052.408</td>\n",
       "</tr>\n",
       "</table>\n",
       "<table class=\"simpletable\">\n",
       "<caption>Regime 1 parameters</caption>\n",
       "<tr>\n",
       "    <td></td>       <th>coef</th>     <th>std err</th>      <th>z</th>      <th>P>|z|</th>  <th>[0.025</th>    <th>0.975]</th>  \n",
       "</tr>\n",
       "<tr>\n",
       "  <th>const</th> <td> 1530.6454</td> <td>   10.431</td> <td>  146.734</td> <td> 0.000</td> <td> 1510.200</td> <td> 1551.091</td>\n",
       "</tr>\n",
       "</table>\n",
       "<table class=\"simpletable\">\n",
       "<caption>Non-switching parameters</caption>\n",
       "<tr>\n",
       "     <td></td>       <th>coef</th>     <th>std err</th>      <th>z</th>      <th>P>|z|</th>  <th>[0.025</th>    <th>0.975]</th>  \n",
       "</tr>\n",
       "<tr>\n",
       "  <th>sigma2</th> <td> 2.303e+04</td> <td> 2058.061</td> <td>   11.189</td> <td> 0.000</td> <td>  1.9e+04</td> <td> 2.71e+04</td>\n",
       "</tr>\n",
       "</table>\n",
       "<table class=\"simpletable\">\n",
       "<caption>Regime transition parameters</caption>\n",
       "<tr>\n",
       "     <td></td>        <th>coef</th>     <th>std err</th>      <th>z</th>      <th>P>|z|</th>  <th>[0.025</th>    <th>0.975]</th>  \n",
       "</tr>\n",
       "<tr>\n",
       "  <th>p[0->0]</th> <td>    0.9911</td> <td>    0.014</td> <td>   72.547</td> <td> 0.000</td> <td>    0.964</td> <td>    1.018</td>\n",
       "</tr>\n",
       "<tr>\n",
       "  <th>p[1->0]</th> <td>    0.0034</td> <td>    0.004</td> <td>    0.903</td> <td> 0.367</td> <td>   -0.004</td> <td>    0.011</td>\n",
       "</tr>\n",
       "</table><br/><br/>Warnings:<br/>[1] Covariance matrix calculated using numerical (complex-step) differentiation."
      ],
      "text/plain": [
       "<class 'statsmodels.iolib.summary.Summary'>\n",
       "\"\"\"\n",
       "                        Markov Switching Model Results                        \n",
       "==============================================================================\n",
       "Dep. Variable:                  LUXXX   No. Observations:                  252\n",
       "Model:               MarkovRegression   Log Likelihood               -1629.403\n",
       "Date:                Mon, 18 Oct 2021   AIC                           3268.806\n",
       "Time:                        23:37:26   BIC                           3286.454\n",
       "Sample:                             0   HQIC                          3275.907\n",
       "                                - 252                                         \n",
       "Covariance Type:               approx                                         \n",
       "                             Regime 0 parameters                              \n",
       "==============================================================================\n",
       "                 coef    std err          z      P>|z|      [0.025      0.975]\n",
       "------------------------------------------------------------------------------\n",
       "const        998.6616     27.422     36.418      0.000     944.916    1052.408\n",
       "                             Regime 1 parameters                              \n",
       "==============================================================================\n",
       "                 coef    std err          z      P>|z|      [0.025      0.975]\n",
       "------------------------------------------------------------------------------\n",
       "const       1530.6454     10.431    146.734      0.000    1510.200    1551.091\n",
       "                           Non-switching parameters                           \n",
       "==============================================================================\n",
       "                 coef    std err          z      P>|z|      [0.025      0.975]\n",
       "------------------------------------------------------------------------------\n",
       "sigma2      2.303e+04   2058.061     11.189      0.000     1.9e+04    2.71e+04\n",
       "                         Regime transition parameters                         \n",
       "==============================================================================\n",
       "                 coef    std err          z      P>|z|      [0.025      0.975]\n",
       "------------------------------------------------------------------------------\n",
       "p[0->0]        0.9911      0.014     72.547      0.000       0.964       1.018\n",
       "p[1->0]        0.0034      0.004      0.903      0.367      -0.004       0.011\n",
       "==============================================================================\n",
       "\n",
       "Warnings:\n",
       "[1] Covariance matrix calculated using numerical (complex-step) differentiation.\n",
       "\"\"\""
      ]
     },
     "execution_count": 16,
     "metadata": {},
     "output_type": "execute_result"
    }
   ],
   "source": [
    "markov_auto_regression = sm.tsa.MarkovRegression(\n",
    "    dframe[\"LUXXX\"], k_regimes=2\n",
    ")\n",
    "reg = markov_auto_regression.fit()\n",
    "reg.summary()"
   ]
  },
  {
   "cell_type": "code",
   "execution_count": 17,
   "id": "d59ce1e3",
   "metadata": {},
   "outputs": [
    {
     "name": "stdout",
     "output_type": "stream",
     "text": [
      "[112.00148862 290.01106018]\n",
      "[[[0.99107155]\n",
      "  [0.00344814]]\n",
      "\n",
      " [[0.00892845]\n",
      "  [0.99655186]]]\n"
     ]
    }
   ],
   "source": [
    "print(reg.expected_durations)\n",
    "print(reg.regime_transition)"
   ]
  },
  {
   "cell_type": "code",
   "execution_count": 18,
   "id": "1477d7bf",
   "metadata": {},
   "outputs": [
    {
     "data": {
      "image/png": "[encoded data removed]",
      "text/plain": [
       "<Figure size 432x288 with 1 Axes>"
      ]
     },
     "metadata": {
      "needs_background": "light"
     },
     "output_type": "display_data"
    }
   ],
   "source": [
    "plt.plot(reg.smoothed_marginal_probabilities[0], label=\"probability of regime 0\")\n",
    "plt.plot(reg.smoothed_marginal_probabilities[1], label=\"probability of regime 1\")\n",
    "plt.title(\"LUXXX Regime probability\")\n",
    "plt.legend(bbox_to_anchor=(1.05, 0.6, 0.3, 0.2), loc='center left')\n",
    "plt.show()"
   ]
  },
  {
   "cell_type": "markdown",
   "id": "693b7d86",
   "metadata": {},
   "source": [
    "#### 3.3 Calculate the standard deviation of the return series for each regime."
   ]
  },
  {
   "cell_type": "code",
   "execution_count": 19,
   "id": "322f564e",
   "metadata": {},
   "outputs": [
    {
     "name": "stdout",
     "output_type": "stream",
     "text": [
      "regime std\n",
      "regime\n",
      "0.0    0.055273\n",
      "1.0    0.028661\n",
      "Name: returns, dtype: float64\n"
     ]
    }
   ],
   "source": [
    "expected_regime =  (reg.smoothed_marginal_probabilities[1] > reg.smoothed_marginal_probabilities[0]).astype(int)\n",
    "expected_regime = expected_regime[1:]\n",
    "expected_regime.name = \"regime\"\n",
    "returns = dframe[\"LUXXX\"].pct_change()[1:]\n",
    "returns.name = \"returns\"\n",
    "returns_data = pd.DataFrame([expected_regime, returns]).T\n",
    "\n",
    "print(\"regime std\")\n",
    "print(returns_data.groupby(['regime'])['returns'].std())"
   ]
  },
  {
   "cell_type": "markdown",
   "id": "3a09594c",
   "metadata": {},
   "source": [
    "#### 3.4 Fit a Bivariate Normal Distribution BN(mean1, standard deviation1, mean2, standard deviation2, mixing parameter). For simplicity, you can assume the means are the same"
   ]
  },
  {
   "cell_type": "code",
   "execution_count": 20,
   "id": "ea5a8f68",
   "metadata": {},
   "outputs": [
    {
     "data": {
      "text/plain": [
       "<scipy.stats._multivariate.multivariate_normal_frozen at 0x7fe15a92dd50>"
      ]
     },
     "execution_count": 20,
     "metadata": {},
     "output_type": "execute_result"
    }
   ],
   "source": [
    "# means = [df[\"LUXXX\"].mean(), df[\"MSCI BRAZIL\"].mean()]\n",
    "\n",
    "joined_data = pd.DataFrame([dframe[\"LUXXX\"], dframe[\"MSCI BRAZIL\"]]).T\n",
    "\n",
    "joined_data.cov()\n",
    "joined_data.mean()\n",
    "var = multivariate_normal(mean=joined_data.mean(), cov=joined_data.cov())\n",
    "\n",
    "var"
   ]
  },
  {
   "cell_type": "code",
   "execution_count": 21,
   "id": "934aada0",
   "metadata": {},
   "outputs": [
    {
     "data": {
      "text/plain": [
       "Text(0.5, 0, 'pdf')"
      ]
     },
     "execution_count": 21,
     "metadata": {},
     "output_type": "execute_result"
    },
    {
     "data": {
      "image/png": "[encoded data removed]",
      "text/plain": [
       "<Figure size 864x720 with 1 Axes>"
      ]
     },
     "metadata": {
      "needs_background": "light"
     },
     "output_type": "display_data"
    }
   ],
   "source": [
    "fig = plt.figure(figsize = (12,10))\n",
    "ax = plt.axes(projection='3d')\n",
    "\n",
    "mean_0 = joined_data.mean()[\"LUXXX\"]\n",
    "std_0 = np.sqrt(joined_data.cov()[\"LUXXX\"][\"LUXXX\"])\n",
    "mean_1 = joined_data.mean()[\"MSCI BRAZIL\"]\n",
    "std_1 = np.sqrt(joined_data.cov()[\"MSCI BRAZIL\"][\"MSCI BRAZIL\"])\n",
    "\n",
    "\n",
    "x = np.linspace(mean_0-2*std_0, mean_0+2*std_0, 100)\n",
    "y = np.linspace(mean_1-2*std_1, mean_1+2*std_1, 100)\n",
    "\n",
    "X, Y = np.meshgrid(x, y)\n",
    "Z = []\n",
    "for x_cur in x:\n",
    "  for y_cur in y:\n",
    "    cur_var = var.pdf([x_cur, y_cur])\n",
    "    Z.append(cur_var)\n",
    "\n",
    "Z = np.array(Z)\n",
    "Z.resize(len(x), len(y))\n",
    "Z\n",
    "surf = ax.plot_surface(X, Y, Z, cmap = plt.cm.cividis)\n",
    "ax.set_xlabel('LUXXX Price')\n",
    "ax.set_ylabel('MSCI BRAZIL')\n",
    "ax.set_zlabel('pdf')"
   ]
  },
  {
   "cell_type": "markdown",
   "id": "026428a2",
   "metadata": {},
   "source": [
    "# 4. Visualizing Distributions"
   ]
  },
  {
   "cell_type": "markdown",
   "id": "3f500ebc",
   "metadata": {},
   "source": [
    "4.1 Use your response variable that you ran a regime shift model.  Show the following graphs in side-by-side panels.  Keep the scales of the 2 graphs the same!"
   ]
  },
  {
   "cell_type": "markdown",
   "id": "07e1b16c",
   "metadata": {},
   "source": [
    "#### 4.2 Plot histograms for each return series.  Superimpose a density plot on top."
   ]
  },
  {
   "cell_type": "code",
   "execution_count": 22,
   "id": "b7e1333e",
   "metadata": {},
   "outputs": [
    {
     "name": "stderr",
     "output_type": "stream",
     "text": [
      "/home/fabulouskorex/anaconda3/lib/python3.7/site-packages/seaborn/distributions.py:2619: FutureWarning: `distplot` is a deprecated function and will be removed in a future version. Please adapt your code to use either `displot` (a figure-level function with similar flexibility) or `histplot` (an axes-level function for histograms).\n",
      "  warnings.warn(msg, FutureWarning)\n"
     ]
    },
    {
     "data": {
      "image/png": "[encoded data removed]",
      "text/plain": [
       "<Figure size 432x288 with 1 Axes>"
      ]
     },
     "metadata": {
      "needs_background": "light"
     },
     "output_type": "display_data"
    }
   ],
   "source": [
    "sns.distplot(a=dframe[\"LUXXX\"])\n",
    "\n",
    "plt.show()"
   ]
  },
  {
   "cell_type": "code",
   "execution_count": 23,
   "id": "26137933",
   "metadata": {},
   "outputs": [
    {
     "name": "stderr",
     "output_type": "stream",
     "text": [
      "/home/fabulouskorex/anaconda3/lib/python3.7/site-packages/seaborn/distributions.py:2619: FutureWarning: `distplot` is a deprecated function and will be removed in a future version. Please adapt your code to use either `displot` (a figure-level function with similar flexibility) or `histplot` (an axes-level function for histograms).\n",
      "  warnings.warn(msg, FutureWarning)\n"
     ]
    },
    {
     "data": {
      "image/png": "[encoded data removed]",
      "text/plain": [
       "<Figure size 432x288 with 1 Axes>"
      ]
     },
     "metadata": {
      "needs_background": "light"
     },
     "output_type": "display_data"
    }
   ],
   "source": [
    "sns.distplot(a=dframe['MSCI BRAZIL'])\n",
    "\n",
    "plt.show()"
   ]
  },
  {
   "cell_type": "markdown",
   "id": "5232efd6",
   "metadata": {},
   "source": [
    "#### 4.3 Plot a qqplot for each return series.  Superimpose the points on the plot"
   ]
  },
  {
   "cell_type": "code",
   "execution_count": 24,
   "id": "34542e83",
   "metadata": {},
   "outputs": [
    {
     "name": "stderr",
     "output_type": "stream",
     "text": [
      "/home/fabulouskorex/anaconda3/lib/python3.7/site-packages/statsmodels/graphics/gofplots.py:993: UserWarning: marker is redundantly defined by the 'marker' keyword argument and the fmt string \"bo\" (-> marker='o'). The keyword argument will take precedence.\n",
      "  ax.plot(x, y, fmt, **plot_style)\n"
     ]
    },
    {
     "data": {
      "image/png": "[encoded data removed]",
      "text/plain": [
       "<Figure size 432x288 with 1 Axes>"
      ]
     },
     "metadata": {
      "needs_background": "light"
     },
     "output_type": "display_data"
    }
   ],
   "source": [
    "sm.qqplot(dframe[\"LUXXX\"].pct_change()[1:], line ='45')\n",
    "plt.show()"
   ]
  },
  {
   "cell_type": "code",
   "execution_count": 25,
   "id": "6a604486",
   "metadata": {},
   "outputs": [
    {
     "name": "stderr",
     "output_type": "stream",
     "text": [
      "/home/fabulouskorex/anaconda3/lib/python3.7/site-packages/statsmodels/graphics/gofplots.py:993: UserWarning: marker is redundantly defined by the 'marker' keyword argument and the fmt string \"bo\" (-> marker='o'). The keyword argument will take precedence.\n",
      "  ax.plot(x, y, fmt, **plot_style)\n"
     ]
    },
    {
     "data": {
      "image/png": "[encoded data removed]",
      "text/plain": [
       "<Figure size 432x288 with 1 Axes>"
      ]
     },
     "metadata": {
      "needs_background": "light"
     },
     "output_type": "display_data"
    }
   ],
   "source": [
    "sm.qqplot(dframe['MSCI BRAZIL'].pct_change()[1:], line ='45')\n",
    "plt.show()"
   ]
  },
  {
   "cell_type": "markdown",
   "id": "297bdddd",
   "metadata": {},
   "source": [
    "#### 5.1 Using a combination of calculated stats and visuals, identify the outliers "
   ]
  },
  {
   "cell_type": "code",
   "execution_count": 28,
   "id": "06881f6a",
   "metadata": {},
   "outputs": [
    {
     "name": "stderr",
     "output_type": "stream",
     "text": [
      "/home/fabulouskorex/anaconda3/lib/python3.7/site-packages/seaborn/_decorators.py:43: FutureWarning: Pass the following variable as a keyword arg: x. From version 0.12, the only valid positional argument will be `data`, and passing other arguments without an explicit keyword will result in an error or misinterpretation.\n",
      "  FutureWarning\n"
     ]
    },
    {
     "data": {
      "image/png": "[encoded data removed]",
      "text/plain": [
       "<Figure size 432x288 with 1 Axes>"
      ]
     },
     "metadata": {
      "needs_background": "light"
     },
     "output_type": "display_data"
    }
   ],
   "source": [
    "data_pct_change = dframe[\"LUXXX\"].pct_change()[1:]\n",
    "sns.boxplot(data_pct_change)\n",
    "\n",
    "plt.show()"
   ]
  },
  {
   "cell_type": "code",
   "execution_count": 30,
   "id": "a4d9e016",
   "metadata": {},
   "outputs": [
    {
     "name": "stderr",
     "output_type": "stream",
     "text": [
      "/home/fabulouskorex/anaconda3/lib/python3.7/site-packages/seaborn/_decorators.py:43: FutureWarning: Pass the following variable as a keyword arg: x. From version 0.12, the only valid positional argument will be `data`, and passing other arguments without an explicit keyword will result in an error or misinterpretation.\n",
      "  FutureWarning\n"
     ]
    },
    {
     "data": {
      "image/png": "[encoded data removed]",
      "text/plain": [
       "<Figure size 432x288 with 1 Axes>"
      ]
     },
     "metadata": {
      "needs_background": "light"
     },
     "output_type": "display_data"
    }
   ],
   "source": [
    "data_pct_change = dframe[\"MSCI BRAZIL\"].pct_change()[1:]\n",
    "sns.boxplot(data_pct_change)\n",
    "\n",
    "plt.show()"
   ]
  },
  {
   "cell_type": "code",
   "execution_count": 31,
   "id": "f1df5459",
   "metadata": {},
   "outputs": [
    {
     "data": {
      "text/plain": [
       "9      0.253207\n",
       "223    0.171796\n",
       "226    0.103185\n",
       "229    0.109020\n",
       "231    0.177659\n",
       "45    -0.110523\n",
       "72    -0.130855\n",
       "217   -0.107914\n",
       "219   -0.181571\n",
       "220   -0.217336\n",
       "225   -0.115280\n",
       "Name: MSCI BRAZIL, dtype: float64"
      ]
     },
     "execution_count": 31,
     "metadata": {},
     "output_type": "execute_result"
    }
   ],
   "source": [
    "data_std = data_pct_change.std()\n",
    "data_mean = data_pct_change.mean()\n",
    "outliers = data_pct_change[data_pct_change > data_mean + 2*data_std].append(data_pct_change[data_pct_change < data_mean - 2*data_std])\n",
    "outliers"
   ]
  },
  {
   "cell_type": "markdown",
   "id": "9079c117",
   "metadata": {},
   "source": [
    "#### 5.2 What is a monotone transformation?"
   ]
  },
  {
   "cell_type": "markdown",
   "id": "ab3a7937",
   "metadata": {},
   "source": [
    "A monotonic transformation is a method of changing one set of numbers into another while maintaining the order of the numbers."
   ]
  },
  {
   "cell_type": "markdown",
   "id": "d2be8953",
   "metadata": {},
   "source": [
    "#### 5.3 Is there a monotone transformation of the data that can help handle the outliers better?  If so, perform it."
   ]
  },
  {
   "cell_type": "code",
   "execution_count": 33,
   "id": "17aa3bdb",
   "metadata": {},
   "outputs": [
    {
     "name": "stderr",
     "output_type": "stream",
     "text": [
      "/home/fabulouskorex/anaconda3/lib/python3.7/site-packages/seaborn/_decorators.py:43: FutureWarning: Pass the following variable as a keyword arg: x. From version 0.12, the only valid positional argument will be `data`, and passing other arguments without an explicit keyword will result in an error or misinterpretation.\n",
      "  FutureWarning\n"
     ]
    },
    {
     "data": {
      "image/png": "[encoded data removed]",
      "text/plain": [
       "<Figure size 432x288 with 1 Axes>"
      ]
     },
     "metadata": {
      "needs_background": "light"
     },
     "output_type": "display_data"
    }
   ],
   "source": [
    "min_ret = -min(dframe[\"LUXXX\"].pct_change()[1:])\n",
    "\n",
    "transformed_data = np.square((dframe[\"LUXXX\"].pct_change()[1:] + min_ret)) - np.square(min_ret)\n",
    "\n",
    "min_ret = -min(transformed_data)\n",
    "transformed_data = np.sqrt(transformed_data +min_ret + 1) - np.sqrt(min_ret + 1)\n",
    "sns.boxplot(transformed_data)\n",
    "plt.show()"
   ]
  },
  {
   "cell_type": "code",
   "execution_count": 35,
   "id": "75b47726",
   "metadata": {},
   "outputs": [
    {
     "name": "stderr",
     "output_type": "stream",
     "text": [
      "/home/fabulouskorex/anaconda3/lib/python3.7/site-packages/seaborn/_decorators.py:43: FutureWarning: Pass the following variable as a keyword arg: x. From version 0.12, the only valid positional argument will be `data`, and passing other arguments without an explicit keyword will result in an error or misinterpretation.\n",
      "  FutureWarning\n"
     ]
    },
    {
     "data": {
      "image/png": "[encoded data removed]",
      "text/plain": [
       "<Figure size 432x288 with 1 Axes>"
      ]
     },
     "metadata": {
      "needs_background": "light"
     },
     "output_type": "display_data"
    }
   ],
   "source": [
    "min_ret = -min(dframe[\"MSCI BRAZIL\"].pct_change()[1:])\n",
    "\n",
    "transformed_data = np.square((dframe[\"MSCI BRAZIL\"].pct_change()[1:] + min_ret)) - np.square(min_ret)\n",
    "\n",
    "min_ret = -min(transformed_data)\n",
    "transformed_data = np.sqrt(transformed_data +min_ret + 1) - np.sqrt(min_ret + 1)\n",
    "sns.boxplot(transformed_data)\n",
    "plt.show()"
   ]
  },
  {
   "cell_type": "markdown",
   "id": "5800e990",
   "metadata": {},
   "source": [
    "#### 6.1 Is the neural network methodology supervised or unsupervised?  Explain."
   ]
  },
  {
   "cell_type": "markdown",
   "id": "833af588",
   "metadata": {},
   "source": [
    "It's supervised because you need to train the NN and then use backpropagation to make it run efficiently. They can also be used to forecast a label or a number and can directly test accuracy."
   ]
  },
  {
   "cell_type": "markdown",
   "id": "81fa8a9f",
   "metadata": {},
   "source": [
    "#### 7.1 Run an VARMA model, which models your response (e.g. LUXXX) versus lagged versions of itself AND with some number of exogeneous variables (e.g. the other ETFs). Use the variables you chose from your LASSO regression (see GWP#1). "
   ]
  },
  {
   "cell_type": "code",
   "execution_count": 61,
   "id": "72ed34f0",
   "metadata": {},
   "outputs": [],
   "source": [
    "y = pd.DataFrame(dframe.iloc[:, 1])\n",
    "x = pd.concat([pd.DataFrame(dframe.iloc[:, 2]), dframe.iloc[:, 3:]], axis=1)"
   ]
  },
  {
   "cell_type": "code",
   "execution_count": 62,
   "id": "51c675dc",
   "metadata": {},
   "outputs": [
    {
     "name": "stderr",
     "output_type": "stream",
     "text": [
      "/home/fabulouskorex/anaconda3/lib/python3.7/site-packages/sklearn/linear_model/_coordinate_descent.py:532: ConvergenceWarning: Objective did not converge. You might want to increase the number of iterations. Duality gap: 142482.22375812865, tolerance: 1429.0764575389717\n",
      "  positive)\n"
     ]
    },
    {
     "data": {
      "text/html": [
       "<div>\n",
       "<style scoped>\n",
       "    .dataframe tbody tr th:only-of-type {\n",
       "        vertical-align: middle;\n",
       "    }\n",
       "\n",
       "    .dataframe tbody tr th {\n",
       "        vertical-align: top;\n",
       "    }\n",
       "\n",
       "    .dataframe thead th {\n",
       "        text-align: right;\n",
       "    }\n",
       "</style>\n",
       "<table border=\"1\" class=\"dataframe\">\n",
       "  <thead>\n",
       "    <tr style=\"text-align: right;\">\n",
       "      <th></th>\n",
       "      <th>MSCI ITALY</th>\n",
       "      <th>MSCI SPAIN</th>\n",
       "      <th>MSCI GERMANY</th>\n",
       "      <th>MSCI NETHERLANDS</th>\n",
       "      <th>MSCI BELGIUM</th>\n",
       "      <th>MSCI FRANCE</th>\n",
       "      <th>MSCI AUSTRIA</th>\n",
       "    </tr>\n",
       "  </thead>\n",
       "  <tbody>\n",
       "    <tr>\n",
       "      <th>0</th>\n",
       "      <td>61.26</td>\n",
       "      <td>108.40</td>\n",
       "      <td>140.65</td>\n",
       "      <td>120.08</td>\n",
       "      <td>105.38</td>\n",
       "      <td>131.10</td>\n",
       "      <td>106.70</td>\n",
       "    </tr>\n",
       "    <tr>\n",
       "      <th>1</th>\n",
       "      <td>56.94</td>\n",
       "      <td>101.00</td>\n",
       "      <td>129.12</td>\n",
       "      <td>112.38</td>\n",
       "      <td>99.35</td>\n",
       "      <td>122.85</td>\n",
       "      <td>97.66</td>\n",
       "    </tr>\n",
       "    <tr>\n",
       "      <th>2</th>\n",
       "      <td>54.86</td>\n",
       "      <td>97.34</td>\n",
       "      <td>125.17</td>\n",
       "      <td>110.37</td>\n",
       "      <td>97.32</td>\n",
       "      <td>119.45</td>\n",
       "      <td>93.54</td>\n",
       "    </tr>\n",
       "    <tr>\n",
       "      <th>3</th>\n",
       "      <td>54.36</td>\n",
       "      <td>99.21</td>\n",
       "      <td>128.08</td>\n",
       "      <td>114.75</td>\n",
       "      <td>100.73</td>\n",
       "      <td>123.00</td>\n",
       "      <td>95.79</td>\n",
       "    </tr>\n",
       "    <tr>\n",
       "      <th>4</th>\n",
       "      <td>53.16</td>\n",
       "      <td>100.06</td>\n",
       "      <td>128.32</td>\n",
       "      <td>117.19</td>\n",
       "      <td>103.05</td>\n",
       "      <td>125.61</td>\n",
       "      <td>96.93</td>\n",
       "    </tr>\n",
       "    <tr>\n",
       "      <th>...</th>\n",
       "      <td>...</td>\n",
       "      <td>...</td>\n",
       "      <td>...</td>\n",
       "      <td>...</td>\n",
       "      <td>...</td>\n",
       "      <td>...</td>\n",
       "      <td>...</td>\n",
       "    </tr>\n",
       "    <tr>\n",
       "      <th>247</th>\n",
       "      <td>48.90</td>\n",
       "      <td>78.45</td>\n",
       "      <td>140.60</td>\n",
       "      <td>163.96</td>\n",
       "      <td>64.63</td>\n",
       "      <td>137.63</td>\n",
       "      <td>84.95</td>\n",
       "    </tr>\n",
       "    <tr>\n",
       "      <th>248</th>\n",
       "      <td>49.52</td>\n",
       "      <td>79.97</td>\n",
       "      <td>143.29</td>\n",
       "      <td>169.19</td>\n",
       "      <td>66.00</td>\n",
       "      <td>140.51</td>\n",
       "      <td>84.89</td>\n",
       "    </tr>\n",
       "    <tr>\n",
       "      <th>249</th>\n",
       "      <td>50.76</td>\n",
       "      <td>82.44</td>\n",
       "      <td>147.24</td>\n",
       "      <td>173.03</td>\n",
       "      <td>69.35</td>\n",
       "      <td>144.34</td>\n",
       "      <td>90.01</td>\n",
       "    </tr>\n",
       "    <tr>\n",
       "      <th>250</th>\n",
       "      <td>50.23</td>\n",
       "      <td>81.31</td>\n",
       "      <td>145.91</td>\n",
       "      <td>173.88</td>\n",
       "      <td>66.90</td>\n",
       "      <td>143.76</td>\n",
       "      <td>88.66</td>\n",
       "    </tr>\n",
       "    <tr>\n",
       "      <th>251</th>\n",
       "      <td>50.06</td>\n",
       "      <td>81.81</td>\n",
       "      <td>142.62</td>\n",
       "      <td>169.71</td>\n",
       "      <td>66.46</td>\n",
       "      <td>143.20</td>\n",
       "      <td>89.74</td>\n",
       "    </tr>\n",
       "  </tbody>\n",
       "</table>\n",
       "<p>252 rows × 7 columns</p>\n",
       "</div>"
      ],
      "text/plain": [
       "     MSCI ITALY  MSCI SPAIN  MSCI GERMANY  MSCI NETHERLANDS  MSCI BELGIUM  \\\n",
       "0         61.26      108.40        140.65            120.08        105.38   \n",
       "1         56.94      101.00        129.12            112.38         99.35   \n",
       "2         54.86       97.34        125.17            110.37         97.32   \n",
       "3         54.36       99.21        128.08            114.75        100.73   \n",
       "4         53.16      100.06        128.32            117.19        103.05   \n",
       "..          ...         ...           ...               ...           ...   \n",
       "247       48.90       78.45        140.60            163.96         64.63   \n",
       "248       49.52       79.97        143.29            169.19         66.00   \n",
       "249       50.76       82.44        147.24            173.03         69.35   \n",
       "250       50.23       81.31        145.91            173.88         66.90   \n",
       "251       50.06       81.81        142.62            169.71         66.46   \n",
       "\n",
       "     MSCI FRANCE  MSCI AUSTRIA  \n",
       "0         131.10        106.70  \n",
       "1         122.85         97.66  \n",
       "2         119.45         93.54  \n",
       "3         123.00         95.79  \n",
       "4         125.61         96.93  \n",
       "..           ...           ...  \n",
       "247       137.63         84.95  \n",
       "248       140.51         84.89  \n",
       "249       144.34         90.01  \n",
       "250       143.76         88.66  \n",
       "251       143.20         89.74  \n",
       "\n",
       "[252 rows x 7 columns]"
      ]
     },
     "execution_count": 62,
     "metadata": {},
     "output_type": "execute_result"
    }
   ],
   "source": [
    "model = Lasso(alpha=0.1)\n",
    "model.fit(x, y)\n",
    "\n",
    "tuples = []\n",
    "for i,v in enumerate(model.coef_):\n",
    "    tuples.append((i, v))\n",
    "# \tprint('Feature: %0d, Score: %.5f' % (i,v))\n",
    "\n",
    "# choose the 7 most important predictiors by the coefficient\n",
    "tuples.sort(key = lambda x: abs(x[1]), reverse=True)\n",
    "\n",
    "topPredictors = pd.DataFrame()\n",
    "for i in range(0,7):\n",
    "    curSer = x.iloc[:, tuples[i][0]]\n",
    "    topPredictors[curSer.name] = curSer\n",
    "    \n",
    "topPredictors"
   ]
  },
  {
   "cell_type": "code",
   "execution_count": 63,
   "id": "89afc238",
   "metadata": {},
   "outputs": [],
   "source": [
    "# concat the x and y\n",
    "def get_data(topPredictors, y):\n",
    "  x_varma = pd.concat([topPredictors, y], axis=1)\n",
    "  #get rid of last element\n",
    "  x_varma = x_varma.iloc[:-1, :]\n",
    "  # get rid of first element so we preict the future results\n",
    "  y_varma = pd.concat([y.iloc[1:, :], topPredictors.iloc[1:, 0]], axis=1)\n",
    "  y_varma.index = range(0,len(y_varma))\n",
    "\n",
    "  # compute pct change for stationarity\n",
    "  x_varma_pct = x_varma.pct_change()[1:]\n",
    "  y_varma_pct = y_varma.pct_change()[1:]\n",
    "  return x_varma_pct, y_varma_pct\n",
    "\n",
    "x_varma_pct, y_varma_pct = get_data(topPredictors, y)\n"
   ]
  },
  {
   "cell_type": "code",
   "execution_count": 64,
   "id": "02ca5127",
   "metadata": {},
   "outputs": [
    {
     "data": {
      "text/html": [
       "<div>\n",
       "<style scoped>\n",
       "    .dataframe tbody tr th:only-of-type {\n",
       "        vertical-align: middle;\n",
       "    }\n",
       "\n",
       "    .dataframe tbody tr th {\n",
       "        vertical-align: top;\n",
       "    }\n",
       "\n",
       "    .dataframe thead th {\n",
       "        text-align: right;\n",
       "    }\n",
       "</style>\n",
       "<table border=\"1\" class=\"dataframe\">\n",
       "  <thead>\n",
       "    <tr style=\"text-align: right;\">\n",
       "      <th></th>\n",
       "      <th>LUXXX</th>\n",
       "      <th>MSCI ITALY</th>\n",
       "    </tr>\n",
       "  </thead>\n",
       "  <tbody>\n",
       "    <tr>\n",
       "      <th>1</th>\n",
       "      <td>-0.026471</td>\n",
       "      <td>-0.036530</td>\n",
       "    </tr>\n",
       "    <tr>\n",
       "      <th>2</th>\n",
       "      <td>-0.002322</td>\n",
       "      <td>-0.009114</td>\n",
       "    </tr>\n",
       "    <tr>\n",
       "      <th>3</th>\n",
       "      <td>0.035141</td>\n",
       "      <td>-0.022075</td>\n",
       "    </tr>\n",
       "    <tr>\n",
       "      <th>4</th>\n",
       "      <td>-0.018185</td>\n",
       "      <td>-0.076561</td>\n",
       "    </tr>\n",
       "    <tr>\n",
       "      <th>5</th>\n",
       "      <td>-0.068617</td>\n",
       "      <td>-0.038093</td>\n",
       "    </tr>\n",
       "    <tr>\n",
       "      <th>...</th>\n",
       "      <td>...</td>\n",
       "      <td>...</td>\n",
       "    </tr>\n",
       "    <tr>\n",
       "      <th>246</th>\n",
       "      <td>-0.060663</td>\n",
       "      <td>-0.040236</td>\n",
       "    </tr>\n",
       "    <tr>\n",
       "      <th>247</th>\n",
       "      <td>0.049442</td>\n",
       "      <td>0.012679</td>\n",
       "    </tr>\n",
       "    <tr>\n",
       "      <th>248</th>\n",
       "      <td>0.037079</td>\n",
       "      <td>0.025040</td>\n",
       "    </tr>\n",
       "    <tr>\n",
       "      <th>249</th>\n",
       "      <td>-0.007048</td>\n",
       "      <td>-0.010441</td>\n",
       "    </tr>\n",
       "    <tr>\n",
       "      <th>250</th>\n",
       "      <td>0.021051</td>\n",
       "      <td>-0.003384</td>\n",
       "    </tr>\n",
       "  </tbody>\n",
       "</table>\n",
       "<p>250 rows × 2 columns</p>\n",
       "</div>"
      ],
      "text/plain": [
       "        LUXXX  MSCI ITALY\n",
       "1   -0.026471   -0.036530\n",
       "2   -0.002322   -0.009114\n",
       "3    0.035141   -0.022075\n",
       "4   -0.018185   -0.076561\n",
       "5   -0.068617   -0.038093\n",
       "..        ...         ...\n",
       "246 -0.060663   -0.040236\n",
       "247  0.049442    0.012679\n",
       "248  0.037079    0.025040\n",
       "249 -0.007048   -0.010441\n",
       "250  0.021051   -0.003384\n",
       "\n",
       "[250 rows x 2 columns]"
      ]
     },
     "execution_count": 64,
     "metadata": {},
     "output_type": "execute_result"
    }
   ],
   "source": [
    "y_varma_pct\n"
   ]
  },
  {
   "cell_type": "code",
   "execution_count": 65,
   "id": "8f5bcf18",
   "metadata": {},
   "outputs": [],
   "source": [
    "varmax_model = sm.tsa.VARMAX(endog=y_varma_pct, exog=x_varma_pct, order=(2, 0, 2))\n",
    "res = varmax_model.fit(maxiter=1000, disp=False)"
   ]
  },
  {
   "cell_type": "code",
   "execution_count": 66,
   "id": "c2a8bada",
   "metadata": {},
   "outputs": [
    {
     "data": {
      "text/plain": [
       "1085.4637251387544"
      ]
     },
     "execution_count": 66,
     "metadata": {},
     "output_type": "execute_result"
    }
   ],
   "source": [
    "\n",
    "model_log_likelihood = res.llf\n",
    "model_log_likelihood"
   ]
  },
  {
   "cell_type": "code",
   "execution_count": 67,
   "id": "0b82ece0",
   "metadata": {},
   "outputs": [
    {
     "name": "stdout",
     "output_type": "stream",
     "text": [
      "                              Statespace Model Results                             \n",
      "===================================================================================\n",
      "Dep. Variable:     ['LUXXX', 'MSCI ITALY']   No. Observations:                  250\n",
      "Model:                             VARX(2)   Log Likelihood                1085.464\n",
      "                               + intercept   AIC                          -2112.927\n",
      "Date:                     Tue, 19 Oct 2021   BIC                          -2010.805\n",
      "Time:                             00:13:59   HQIC                         -2071.826\n",
      "Sample:                                  0                                         \n",
      "                                     - 250                                         \n",
      "Covariance Type:                       opg                                         \n",
      "===================================================================================\n",
      "Ljung-Box (L1) (Q):             0.01, 0.09   Jarque-Bera (JB):        123.97, 99.77\n",
      "Prob(Q):                        0.94, 0.77   Prob(JB):                   0.00, 0.00\n",
      "Heteroskedasticity (H):         3.03, 1.02   Skew:                     -0.27, -0.60\n",
      "Prob(H) (two-sided):            0.00, 0.93   Kurtosis:                   6.41, 5.85\n",
      "                                Results for equation LUXXX                               \n",
      "=========================================================================================\n",
      "                            coef    std err          z      P>|z|      [0.025      0.975]\n",
      "-----------------------------------------------------------------------------------------\n",
      "intercept                -0.0006      0.002     -0.265      0.791      -0.005       0.004\n",
      "L1.LUXXX                 -0.0828      4.246     -0.020      0.984      -8.404       8.239\n",
      "L1.MSCI ITALY            -0.0523      7.215     -0.007      0.994     -14.192      14.088\n",
      "L2.LUXXX                  0.1190      0.091      1.302      0.193      -0.060       0.298\n",
      "L2.MSCI ITALY             0.0100      0.098      0.103      0.918      -0.181       0.201\n",
      "beta.MSCI ITALY           0.4014      7.219      0.056      0.956     -13.747      14.550\n",
      "beta.MSCI SPAIN          -0.2748      0.234     -1.173      0.241      -0.734       0.184\n",
      "beta.MSCI GERMANY         0.0443      0.322      0.138      0.891      -0.586       0.675\n",
      "beta.MSCI NETHERLANDS     0.1724      0.183      0.940      0.347      -0.187       0.532\n",
      "beta.MSCI BELGIUM         0.0286      0.117      0.245      0.807      -0.201       0.258\n",
      "beta.MSCI FRANCE          0.0572      0.322      0.178      0.859      -0.573       0.687\n",
      "beta.MSCI AUSTRIA        -0.0160      0.133     -0.120      0.904      -0.276       0.244\n",
      "beta.LUXXX               -0.1007      4.247     -0.024      0.981      -8.424       8.222\n",
      "                             Results for equation MSCI ITALY                             \n",
      "=========================================================================================\n",
      "                            coef    std err          z      P>|z|      [0.025      0.975]\n",
      "-----------------------------------------------------------------------------------------\n",
      "intercept              3.805e-06      0.002      0.002      0.999      -0.004       0.004\n",
      "L1.LUXXX                 -0.1335     13.324     -0.010      0.992     -26.248      25.981\n",
      "L1.MSCI ITALY            -0.2851      8.776     -0.032      0.974     -17.487      16.916\n",
      "L2.LUXXX                  0.0054      0.099      0.055      0.957      -0.188       0.199\n",
      "L2.MSCI ITALY             0.0789      0.094      0.841      0.400      -0.105       0.263\n",
      "beta.MSCI ITALY           0.6916      8.776      0.079      0.937     -16.508      17.892\n",
      "beta.MSCI SPAIN          -0.2947      0.224     -1.316      0.188      -0.734       0.144\n",
      "beta.MSCI GERMANY        -0.1928      0.292     -0.659      0.510      -0.766       0.380\n",
      "beta.MSCI NETHERLANDS     0.2147      0.232      0.925      0.355      -0.240       0.670\n",
      "beta.MSCI BELGIUM         0.0691      0.129      0.536      0.592      -0.184       0.322\n",
      "beta.MSCI FRANCE         -0.2542      0.314     -0.810      0.418      -0.870       0.361\n",
      "beta.MSCI AUSTRIA         0.0474      0.139      0.341      0.733      -0.225       0.319\n",
      "beta.LUXXX                0.1736     13.324      0.013      0.990     -25.942      26.289\n",
      "                                   Error covariance matrix                                   \n",
      "=============================================================================================\n",
      "                                coef    std err          z      P>|z|      [0.025      0.975]\n",
      "---------------------------------------------------------------------------------------------\n",
      "sqrt.var.LUXXX                0.0319      0.001     25.045      0.000       0.029       0.034\n",
      "sqrt.cov.LUXXX.MSCI ITALY     0.0192      0.001     12.984      0.000       0.016       0.022\n",
      "sqrt.var.MSCI ITALY           0.0239      0.001     22.020      0.000       0.022       0.026\n",
      "=============================================================================================\n",
      "\n",
      "Warnings:\n",
      "[1] Covariance matrix calculated using the outer product of gradients (complex-step).\n",
      "[2] Covariance matrix is singular or near-singular, with condition number 3.2e+17. Standard errors may be unstable.\n"
     ]
    }
   ],
   "source": [
    "print (res.summary())"
   ]
  },
  {
   "cell_type": "markdown",
   "id": "37168bb6",
   "metadata": {},
   "source": [
    "#### 7.2 What is the difference between how we ran LASSO (GWP #1) and the VARMA? (Hint: think about time subscripts)"
   ]
  },
  {
   "cell_type": "markdown",
   "id": "2d131c1e",
   "metadata": {},
   "source": [
    "The lasso regression just considers current exogenous factors when predicting current endogenous variables, whereas the VARMA has memory and considers earlier exogenous values."
   ]
  },
  {
   "cell_type": "markdown",
   "id": "74f6b7a1",
   "metadata": {},
   "source": [
    "#### 7.3 Find a different set of variables that works BETTER than the original LASSO regression. Show a statistical measure to justify its improved performance."
   ]
  },
  {
   "cell_type": "code",
   "execution_count": 50,
   "id": "65e786aa",
   "metadata": {},
   "outputs": [
    {
     "name": "stdout",
     "output_type": "stream",
     "text": [
      "iteration 0\n",
      "iteration 1\n"
     ]
    }
   ],
   "source": [
    "iteration = 0\n",
    "while True:\n",
    "  tuples = []\n",
    "  for i,v in enumerate(model.coef_):\n",
    "      tuples.append((i, v))\n",
    "  # \tprint('Feature: %0d, Score: %.5f' % (i,v))\n",
    "\n",
    "  # choose 7 features by random\n",
    "  tuples.sort(key = lambda x: random.random(), reverse=True)\n",
    "\n",
    "  topPredictors = pd.DataFrame()\n",
    "  for i in range(0,7):\n",
    "      curSer = x.iloc[:, tuples[i][0]]\n",
    "      topPredictors[curSer.name] = curSer\n",
    "      \n",
    "  x_varma_pct, y_varma_pct = get_data(topPredictors, y)\n",
    "  varmax_model = sm.tsa.VARMAX(endog=y_varma_pct, exog=x_varma_pct, order=(2, 0, 2))\n",
    "  res = varmax_model.fit(maxiter=1000, disp=False)\n",
    "\n",
    "  print(\"iteration %d\" % iteration)\n",
    "\n",
    "  if res.llf < model_log_likelihood:\n",
    "    break\n",
    "  iteration = iteration +1\n"
   ]
  },
  {
   "cell_type": "code",
   "execution_count": 51,
   "id": "aae8206c",
   "metadata": {},
   "outputs": [
    {
     "data": {
      "text/html": [
       "<table class=\"simpletable\">\n",
       "<caption>Statespace Model Results</caption>\n",
       "<tr>\n",
       "  <th>Dep. Variable:</th>   <td>['MSCI ARGENTINA', 'MSCI BRAZIL']</td> <th>  No. Observations:  </th>    <td>250</td>   \n",
       "</tr>\n",
       "<tr>\n",
       "  <th>Model:</th>                        <td>VARX(2)</td>              <th>  Log Likelihood     </th>  <td>816.695</td> \n",
       "</tr>\n",
       "<tr>\n",
       "  <th></th>                            <td>+ intercept</td>            <th>  AIC                </th> <td>-1575.390</td>\n",
       "</tr>\n",
       "<tr>\n",
       "  <th>Date:</th>                    <td>Tue, 19 Oct 2021</td>          <th>  BIC                </th> <td>-1473.268</td>\n",
       "</tr>\n",
       "<tr>\n",
       "  <th>Time:</th>                        <td>00:06:21</td>              <th>  HQIC               </th> <td>-1534.289</td>\n",
       "</tr>\n",
       "<tr>\n",
       "  <th>Sample:</th>                          <td>0</td>                 <th>                     </th>     <td> </td>    \n",
       "</tr>\n",
       "<tr>\n",
       "  <th></th>                              <td> - 250</td>               <th>                     </th>     <td> </td>    \n",
       "</tr>\n",
       "<tr>\n",
       "  <th>Covariance Type:</th>                <td>opg</td>                <th>                     </th>     <td> </td>    \n",
       "</tr>\n",
       "</table>\n",
       "<table class=\"simpletable\">\n",
       "<tr>\n",
       "  <th>Ljung-Box (L1) (Q):</th>     <td>0.08, 0.17</td> <th>  Jarque-Bera (JB):  </th> <td>823.04, 140.82</td>\n",
       "</tr>\n",
       "<tr>\n",
       "  <th>Prob(Q):</th>                <td>0.78, 0.68</td> <th>  Prob(JB):          </th>   <td>0.00, 0.00</td>  \n",
       "</tr>\n",
       "<tr>\n",
       "  <th>Heteroskedasticity (H):</th> <td>4.12, 1.12</td> <th>  Skew:              </th>   <td>-1.20, 0.54</td> \n",
       "</tr>\n",
       "<tr>\n",
       "  <th>Prob(H) (two-sided):</th>    <td>0.00, 0.62</td> <th>  Kurtosis:          </th>   <td>11.56, 6.52</td> \n",
       "</tr>\n",
       "</table>\n",
       "<table class=\"simpletable\">\n",
       "<caption>Results for equation MSCI ARGENTINA</caption>\n",
       "<tr>\n",
       "           <td></td>              <th>coef</th>     <th>std err</th>      <th>z</th>      <th>P>|z|</th>  <th>[0.025</th>    <th>0.975]</th>  \n",
       "</tr>\n",
       "<tr>\n",
       "  <th>intercept</th>           <td>    0.0013</td> <td>    0.004</td> <td>    0.314</td> <td> 0.754</td> <td>   -0.007</td> <td>    0.009</td>\n",
       "</tr>\n",
       "<tr>\n",
       "  <th>L1.MSCI ARGENTINA</th>   <td>   -0.0065</td> <td>   17.718</td> <td>   -0.000</td> <td> 1.000</td> <td>  -34.734</td> <td>   34.721</td>\n",
       "</tr>\n",
       "<tr>\n",
       "  <th>L1.MSCI BRAZIL</th>      <td>   -0.0097</td> <td>   48.891</td> <td>   -0.000</td> <td> 1.000</td> <td>  -95.835</td> <td>   95.815</td>\n",
       "</tr>\n",
       "<tr>\n",
       "  <th>L2.MSCI ARGENTINA</th>   <td>    0.1913</td> <td>    0.077</td> <td>    2.472</td> <td> 0.013</td> <td>    0.040</td> <td>    0.343</td>\n",
       "</tr>\n",
       "<tr>\n",
       "  <th>L2.MSCI BRAZIL</th>      <td>    0.0026</td> <td>    0.113</td> <td>    0.023</td> <td> 0.981</td> <td>   -0.218</td> <td>    0.223</td>\n",
       "</tr>\n",
       "<tr>\n",
       "  <th>beta.MSCI BRAZIL</th>    <td>    0.0026</td> <td>   48.886</td> <td>  5.4e-05</td> <td> 1.000</td> <td>  -95.812</td> <td>   95.817</td>\n",
       "</tr>\n",
       "<tr>\n",
       "  <th>beta.MSCI INDIA</th>     <td>   -0.2741</td> <td>    0.225</td> <td>   -1.219</td> <td> 0.223</td> <td>   -0.715</td> <td>    0.167</td>\n",
       "</tr>\n",
       "<tr>\n",
       "  <th>beta.MSCI GERMANY</th>   <td>    0.2727</td> <td>    0.352</td> <td>    0.775</td> <td> 0.438</td> <td>   -0.417</td> <td>    0.962</td>\n",
       "</tr>\n",
       "<tr>\n",
       "  <th>beta.MSCI SINGAPORE</th> <td>    0.2481</td> <td>    0.371</td> <td>    0.669</td> <td> 0.504</td> <td>   -0.479</td> <td>    0.975</td>\n",
       "</tr>\n",
       "<tr>\n",
       "  <th>beta.MSCI FINLAND</th>   <td>    0.2240</td> <td>    0.270</td> <td>    0.830</td> <td> 0.407</td> <td>   -0.305</td> <td>    0.753</td>\n",
       "</tr>\n",
       "<tr>\n",
       "  <th>beta.MSCI NORWAY</th>    <td>    0.2314</td> <td>    0.287</td> <td>    0.806</td> <td> 0.420</td> <td>   -0.331</td> <td>    0.794</td>\n",
       "</tr>\n",
       "<tr>\n",
       "  <th>beta.MSCI CHINA</th>     <td>   -0.3637</td> <td>    0.186</td> <td>   -1.953</td> <td> 0.051</td> <td>   -0.729</td> <td>    0.001</td>\n",
       "</tr>\n",
       "<tr>\n",
       "  <th>beta.MSCI ARGENTINA</th> <td>   -0.0042</td> <td>   17.721</td> <td>   -0.000</td> <td> 1.000</td> <td>  -34.737</td> <td>   34.728</td>\n",
       "</tr>\n",
       "</table>\n",
       "<table class=\"simpletable\">\n",
       "<caption>Results for equation MSCI BRAZIL</caption>\n",
       "<tr>\n",
       "           <td></td>              <th>coef</th>     <th>std err</th>      <th>z</th>      <th>P>|z|</th>  <th>[0.025</th>    <th>0.975]</th>  \n",
       "</tr>\n",
       "<tr>\n",
       "  <th>intercept</th>           <td>    0.0026</td> <td>    0.003</td> <td>    0.745</td> <td> 0.456</td> <td>   -0.004</td> <td>    0.009</td>\n",
       "</tr>\n",
       "<tr>\n",
       "  <th>L1.MSCI ARGENTINA</th>   <td>    0.0655</td> <td>   31.588</td> <td>    0.002</td> <td> 0.998</td> <td>  -61.845</td> <td>   61.976</td>\n",
       "</tr>\n",
       "<tr>\n",
       "  <th>L1.MSCI BRAZIL</th>      <td>   -0.3836</td> <td>   11.137</td> <td>   -0.034</td> <td> 0.973</td> <td>  -22.212</td> <td>   21.445</td>\n",
       "</tr>\n",
       "<tr>\n",
       "  <th>L2.MSCI ARGENTINA</th>   <td>    0.1295</td> <td>    0.057</td> <td>    2.284</td> <td> 0.022</td> <td>    0.018</td> <td>    0.241</td>\n",
       "</tr>\n",
       "<tr>\n",
       "  <th>L2.MSCI BRAZIL</th>      <td>    0.1045</td> <td>    0.068</td> <td>    1.527</td> <td> 0.127</td> <td>   -0.030</td> <td>    0.239</td>\n",
       "</tr>\n",
       "<tr>\n",
       "  <th>beta.MSCI BRAZIL</th>    <td>    0.4348</td> <td>   11.141</td> <td>    0.039</td> <td> 0.969</td> <td>  -21.401</td> <td>   22.271</td>\n",
       "</tr>\n",
       "<tr>\n",
       "  <th>beta.MSCI INDIA</th>     <td>   -0.1379</td> <td>    0.183</td> <td>   -0.756</td> <td> 0.450</td> <td>   -0.496</td> <td>    0.220</td>\n",
       "</tr>\n",
       "<tr>\n",
       "  <th>beta.MSCI GERMANY</th>   <td>    0.3154</td> <td>    0.264</td> <td>    1.195</td> <td> 0.232</td> <td>   -0.202</td> <td>    0.833</td>\n",
       "</tr>\n",
       "<tr>\n",
       "  <th>beta.MSCI SINGAPORE</th> <td>   -0.5502</td> <td>    0.238</td> <td>   -2.314</td> <td> 0.021</td> <td>   -1.016</td> <td>   -0.084</td>\n",
       "</tr>\n",
       "<tr>\n",
       "  <th>beta.MSCI FINLAND</th>   <td>    0.3422</td> <td>    0.235</td> <td>    1.456</td> <td> 0.145</td> <td>   -0.118</td> <td>    0.803</td>\n",
       "</tr>\n",
       "<tr>\n",
       "  <th>beta.MSCI NORWAY</th>    <td>    0.3356</td> <td>    0.196</td> <td>    1.713</td> <td> 0.087</td> <td>   -0.048</td> <td>    0.720</td>\n",
       "</tr>\n",
       "<tr>\n",
       "  <th>beta.MSCI CHINA</th>     <td>   -0.2459</td> <td>    0.156</td> <td>   -1.578</td> <td> 0.115</td> <td>   -0.551</td> <td>    0.060</td>\n",
       "</tr>\n",
       "<tr>\n",
       "  <th>beta.MSCI ARGENTINA</th> <td>   -0.0229</td> <td>   31.586</td> <td>   -0.001</td> <td> 0.999</td> <td>  -61.931</td> <td>   61.885</td>\n",
       "</tr>\n",
       "</table>\n",
       "<table class=\"simpletable\">\n",
       "<caption>Error covariance matrix</caption>\n",
       "<tr>\n",
       "                   <td></td>                      <th>coef</th>     <th>std err</th>      <th>z</th>      <th>P>|z|</th>  <th>[0.025</th>    <th>0.975]</th>  \n",
       "</tr>\n",
       "<tr>\n",
       "  <th>sqrt.var.MSCI ARGENTINA</th>             <td>    0.0547</td> <td>    0.002</td> <td>   31.831</td> <td> 0.000</td> <td>    0.051</td> <td>    0.058</td>\n",
       "</tr>\n",
       "<tr>\n",
       "  <th>sqrt.cov.MSCI ARGENTINA.MSCI BRAZIL</th> <td>    0.0185</td> <td>    0.003</td> <td>    6.899</td> <td> 0.000</td> <td>    0.013</td> <td>    0.024</td>\n",
       "</tr>\n",
       "<tr>\n",
       "  <th>sqrt.var.MSCI BRAZIL</th>                <td>    0.0407</td> <td>    0.001</td> <td>   29.768</td> <td> 0.000</td> <td>    0.038</td> <td>    0.043</td>\n",
       "</tr>\n",
       "</table><br/><br/>Warnings:<br/>[1] Covariance matrix calculated using the outer product of gradients (complex-step).<br/>[2] Covariance matrix is singular or near-singular, with condition number 5.23e+17. Standard errors may be unstable."
      ],
      "text/plain": [
       "<class 'statsmodels.iolib.summary.Summary'>\n",
       "\"\"\"\n",
       "                                   Statespace Model Results                                  \n",
       "=============================================================================================\n",
       "Dep. Variable:     ['MSCI ARGENTINA', 'MSCI BRAZIL']   No. Observations:                  250\n",
       "Model:                                       VARX(2)   Log Likelihood                 816.695\n",
       "                                         + intercept   AIC                          -1575.390\n",
       "Date:                               Tue, 19 Oct 2021   BIC                          -1473.268\n",
       "Time:                                       00:06:21   HQIC                         -1534.289\n",
       "Sample:                                            0                                         \n",
       "                                               - 250                                         \n",
       "Covariance Type:                                 opg                                         \n",
       "===================================================================================\n",
       "Ljung-Box (L1) (Q):             0.08, 0.17   Jarque-Bera (JB):       823.04, 140.82\n",
       "Prob(Q):                        0.78, 0.68   Prob(JB):                   0.00, 0.00\n",
       "Heteroskedasticity (H):         4.12, 1.12   Skew:                      -1.20, 0.54\n",
       "Prob(H) (two-sided):            0.00, 0.62   Kurtosis:                  11.56, 6.52\n",
       "                          Results for equation MSCI ARGENTINA                          \n",
       "=======================================================================================\n",
       "                          coef    std err          z      P>|z|      [0.025      0.975]\n",
       "---------------------------------------------------------------------------------------\n",
       "intercept               0.0013      0.004      0.314      0.754      -0.007       0.009\n",
       "L1.MSCI ARGENTINA      -0.0065     17.718     -0.000      1.000     -34.734      34.721\n",
       "L1.MSCI BRAZIL         -0.0097     48.891     -0.000      1.000     -95.835      95.815\n",
       "L2.MSCI ARGENTINA       0.1913      0.077      2.472      0.013       0.040       0.343\n",
       "L2.MSCI BRAZIL          0.0026      0.113      0.023      0.981      -0.218       0.223\n",
       "beta.MSCI BRAZIL        0.0026     48.886    5.4e-05      1.000     -95.812      95.817\n",
       "beta.MSCI INDIA        -0.2741      0.225     -1.219      0.223      -0.715       0.167\n",
       "beta.MSCI GERMANY       0.2727      0.352      0.775      0.438      -0.417       0.962\n",
       "beta.MSCI SINGAPORE     0.2481      0.371      0.669      0.504      -0.479       0.975\n",
       "beta.MSCI FINLAND       0.2240      0.270      0.830      0.407      -0.305       0.753\n",
       "beta.MSCI NORWAY        0.2314      0.287      0.806      0.420      -0.331       0.794\n",
       "beta.MSCI CHINA        -0.3637      0.186     -1.953      0.051      -0.729       0.001\n",
       "beta.MSCI ARGENTINA    -0.0042     17.721     -0.000      1.000     -34.737      34.728\n",
       "                            Results for equation MSCI BRAZIL                           \n",
       "=======================================================================================\n",
       "                          coef    std err          z      P>|z|      [0.025      0.975]\n",
       "---------------------------------------------------------------------------------------\n",
       "intercept               0.0026      0.003      0.745      0.456      -0.004       0.009\n",
       "L1.MSCI ARGENTINA       0.0655     31.588      0.002      0.998     -61.845      61.976\n",
       "L1.MSCI BRAZIL         -0.3836     11.137     -0.034      0.973     -22.212      21.445\n",
       "L2.MSCI ARGENTINA       0.1295      0.057      2.284      0.022       0.018       0.241\n",
       "L2.MSCI BRAZIL          0.1045      0.068      1.527      0.127      -0.030       0.239\n",
       "beta.MSCI BRAZIL        0.4348     11.141      0.039      0.969     -21.401      22.271\n",
       "beta.MSCI INDIA        -0.1379      0.183     -0.756      0.450      -0.496       0.220\n",
       "beta.MSCI GERMANY       0.3154      0.264      1.195      0.232      -0.202       0.833\n",
       "beta.MSCI SINGAPORE    -0.5502      0.238     -2.314      0.021      -1.016      -0.084\n",
       "beta.MSCI FINLAND       0.3422      0.235      1.456      0.145      -0.118       0.803\n",
       "beta.MSCI NORWAY        0.3356      0.196      1.713      0.087      -0.048       0.720\n",
       "beta.MSCI CHINA        -0.2459      0.156     -1.578      0.115      -0.551       0.060\n",
       "beta.MSCI ARGENTINA    -0.0229     31.586     -0.001      0.999     -61.931      61.885\n",
       "                                        Error covariance matrix                                        \n",
       "=======================================================================================================\n",
       "                                          coef    std err          z      P>|z|      [0.025      0.975]\n",
       "-------------------------------------------------------------------------------------------------------\n",
       "sqrt.var.MSCI ARGENTINA                 0.0547      0.002     31.831      0.000       0.051       0.058\n",
       "sqrt.cov.MSCI ARGENTINA.MSCI BRAZIL     0.0185      0.003      6.899      0.000       0.013       0.024\n",
       "sqrt.var.MSCI BRAZIL                    0.0407      0.001     29.768      0.000       0.038       0.043\n",
       "=======================================================================================================\n",
       "\n",
       "Warnings:\n",
       "[1] Covariance matrix calculated using the outer product of gradients (complex-step).\n",
       "[2] Covariance matrix is singular or near-singular, with condition number 5.23e+17. Standard errors may be unstable.\n",
       "\"\"\""
      ]
     },
     "execution_count": 51,
     "metadata": {},
     "output_type": "execute_result"
    }
   ],
   "source": [
    "res.summary()"
   ]
  },
  {
   "cell_type": "markdown",
   "id": "e54d8558",
   "metadata": {},
   "source": [
    "# 8. Neural Networks"
   ]
  },
  {
   "cell_type": "markdown",
   "id": "073251de",
   "metadata": {},
   "source": [
    "#### 8.1 Perform a Neural Network, where the response is categorical: whether your return was higher or lower than the previous week. (Ties can be ignored). Choose a suitable number of layers, basing your result on cross-validation\n"
   ]
  },
  {
   "cell_type": "code",
   "execution_count": 73,
   "id": "1dedb077",
   "metadata": {},
   "outputs": [],
   "source": [
    "# get pct change and classifier output\n",
    "y = pd.DataFrame(dframe.iloc[:, 1])\n",
    "x = pd.DataFrame(dframe.iloc[:, 1:])\n",
    "\n",
    "# get rid of last element to have the same size as the output\n",
    "x_pct_change = x.pct_change()[1:-1]\n",
    "y_pct_change = y.pct_change()[1:]\n",
    "\n",
    "next_ret = y_pct_change[1:]\n",
    "prev_ret = y_pct_change[:-1]\n",
    "next_ret.index = range(0,len(next_ret))\n",
    "prev_ret.index = range(0,len(prev_ret))\n",
    "\n",
    "nex_ret_greater = (next_ret > prev_ret).astype(int)\n",
    "\n",
    "nex_ret_greater = pd.concat([nex_ret_greater, (nex_ret_greater == 0).astype(int)], axis=1)\n",
    "x_pct_change.index = range(0,len(x_pct_change))"
   ]
  },
  {
   "cell_type": "code",
   "execution_count": 74,
   "id": "ca77f93d",
   "metadata": {},
   "outputs": [
    {
     "data": {
      "text/html": [
       "<div>\n",
       "<style scoped>\n",
       "    .dataframe tbody tr th:only-of-type {\n",
       "        vertical-align: middle;\n",
       "    }\n",
       "\n",
       "    .dataframe tbody tr th {\n",
       "        vertical-align: top;\n",
       "    }\n",
       "\n",
       "    .dataframe thead th {\n",
       "        text-align: right;\n",
       "    }\n",
       "</style>\n",
       "<table border=\"1\" class=\"dataframe\">\n",
       "  <thead>\n",
       "    <tr style=\"text-align: right;\">\n",
       "      <th></th>\n",
       "      <th>LUXXX</th>\n",
       "      <th>LUXXX</th>\n",
       "    </tr>\n",
       "  </thead>\n",
       "  <tbody>\n",
       "    <tr>\n",
       "      <th>0</th>\n",
       "      <td>1</td>\n",
       "      <td>0</td>\n",
       "    </tr>\n",
       "    <tr>\n",
       "      <th>1</th>\n",
       "      <td>1</td>\n",
       "      <td>0</td>\n",
       "    </tr>\n",
       "    <tr>\n",
       "      <th>2</th>\n",
       "      <td>1</td>\n",
       "      <td>0</td>\n",
       "    </tr>\n",
       "    <tr>\n",
       "      <th>3</th>\n",
       "      <td>0</td>\n",
       "      <td>1</td>\n",
       "    </tr>\n",
       "    <tr>\n",
       "      <th>4</th>\n",
       "      <td>0</td>\n",
       "      <td>1</td>\n",
       "    </tr>\n",
       "    <tr>\n",
       "      <th>...</th>\n",
       "      <td>...</td>\n",
       "      <td>...</td>\n",
       "    </tr>\n",
       "    <tr>\n",
       "      <th>245</th>\n",
       "      <td>0</td>\n",
       "      <td>1</td>\n",
       "    </tr>\n",
       "    <tr>\n",
       "      <th>246</th>\n",
       "      <td>1</td>\n",
       "      <td>0</td>\n",
       "    </tr>\n",
       "    <tr>\n",
       "      <th>247</th>\n",
       "      <td>0</td>\n",
       "      <td>1</td>\n",
       "    </tr>\n",
       "    <tr>\n",
       "      <th>248</th>\n",
       "      <td>0</td>\n",
       "      <td>1</td>\n",
       "    </tr>\n",
       "    <tr>\n",
       "      <th>249</th>\n",
       "      <td>1</td>\n",
       "      <td>0</td>\n",
       "    </tr>\n",
       "  </tbody>\n",
       "</table>\n",
       "<p>250 rows × 2 columns</p>\n",
       "</div>"
      ],
      "text/plain": [
       "     LUXXX  LUXXX\n",
       "0        1      0\n",
       "1        1      0\n",
       "2        1      0\n",
       "3        0      1\n",
       "4        0      1\n",
       "..     ...    ...\n",
       "245      0      1\n",
       "246      1      0\n",
       "247      0      1\n",
       "248      0      1\n",
       "249      1      0\n",
       "\n",
       "[250 rows x 2 columns]"
      ]
     },
     "execution_count": 74,
     "metadata": {},
     "output_type": "execute_result"
    }
   ],
   "source": [
    "nex_ret_greater"
   ]
  },
  {
   "cell_type": "code",
   "execution_count": 75,
   "id": "c6d4de78",
   "metadata": {},
   "outputs": [
    {
     "name": "stderr",
     "output_type": "stream",
     "text": [
      "/home/fabulouskorex/anaconda3/lib/python3.7/site-packages/keras/legacy_tf_layers/core.py:236: UserWarning: `tf.layers.dense` is deprecated and will be removed in a future version. Please use `tf.keras.layers.Dense` instead.\n",
      "  warnings.warn('`tf.layers.dense` is deprecated and '\n",
      "/home/fabulouskorex/anaconda3/lib/python3.7/site-packages/keras/engine/base_layer_v1.py:1676: UserWarning: `layer.apply` is deprecated and will be removed in a future version. Please use `layer.__call__` method instead.\n",
      "  warnings.warn('`layer.apply` is deprecated and '\n",
      "/home/fabulouskorex/anaconda3/lib/python3.7/site-packages/keras/legacy_tf_layers/core.py:393: UserWarning: `tf.layers.dropout` is deprecated and will be removed in a future version. Please use `tf.keras.layers.Dropout` instead.\n",
      "  warnings.warn('`tf.layers.dropout` is deprecated and '\n"
     ]
    },
    {
     "name": "stdout",
     "output_type": "stream",
     "text": [
      "WARNING:tensorflow:From /home/fabulouskorex/anaconda3/lib/python3.7/site-packages/tensorflow/python/util/dispatch.py:206: softmax_cross_entropy_with_logits (from tensorflow.python.ops.nn_ops) is deprecated and will be removed in a future version.\n",
      "Instructions for updating:\n",
      "\n",
      "Future major versions of TensorFlow will allow gradients to flow\n",
      "into the labels input on backprop by default.\n",
      "\n",
      "See `tf.nn.softmax_cross_entropy_with_logits_v2`.\n",
      "\n"
     ]
    }
   ],
   "source": [
    "# Construction\n",
    "# ============\n",
    "tf.reset_default_graph()\n",
    "tf.compat.v1.disable_eager_execution()\n",
    "\n",
    "# Specify the hyperparameters\n",
    "n_inputs = x_pct_change.shape[1]  # Input dimension\n",
    "n_hidden_1 = 30  # Hidden layer\n",
    "n_outputs = 2  # Output layer\n",
    "dropout_rate = 0.5  # Dropout rate\n",
    "\n",
    "n_epochs = 3000  # Number of Epochs\n",
    "\n",
    "with tf.name_scope(\"Inputs\"):    \n",
    "    x = tf.placeholder(tf.float32, shape=(None, n_inputs), name=\"X\")\n",
    "    y = tf.placeholder(tf.float32, shape=(None, n_outputs), name=\"y\")\n",
    "    training = tf.placeholder_with_default(False, shape=(), name=\"training\")\n",
    "\n",
    "with tf.name_scope(\"output\"):\n",
    "    fc0    = tf.layers.dense(x, n_hidden_1, activation = tf.nn.relu, name=\"fc0\")\n",
    "    drop_0 = tf.layers.dropout(fc0, dropout_rate, training=training)\n",
    "    fc1    = tf.layers.dense(drop_0, n_hidden_1, activation = tf.nn.relu, name=\"fc1\")\n",
    "    drop_1 = tf.layers.dropout(fc1, dropout_rate, training=training)\n",
    "    fc2    = tf.layers.dense(drop_1, n_hidden_1, activation = tf.nn.relu, name=\"fc2\")\n",
    "    drop_2 = tf.layers.dropout(fc2, dropout_rate, training=training)\n",
    "    fc3    = tf.layers.dense(drop_2, n_hidden_1, activation = tf.nn.relu, name=\"fc3\")\n",
    "    drop_3 = tf.layers.dropout(fc3, dropout_rate, training=training)\n",
    "    fc4    = tf.layers.dense(drop_3, n_hidden_1, activation = tf.nn.relu, name=\"fc4\")\n",
    "    drop_4 = tf.layers.dropout(fc4, dropout_rate, training=training)\n",
    "    fc5    = tf.layers.dense(drop_4, n_hidden_1, activation = tf.nn.relu, name=\"fc5\")\n",
    "    drop_5 = tf.layers.dropout(fc5, dropout_rate, training=training)\n",
    "\n",
    "    logits = tf.layers.dense(drop_5, n_outputs, name=\"output\")\n",
    "    Y_prob = tf.nn.softmax(logits, name=\"Y_prob\")\n",
    "\n",
    "with tf.name_scope(\"train\"):\n",
    "    xentropy = tf.nn.softmax_cross_entropy_with_logits(logits=logits, labels=y, name=\"xentropy\")\n",
    "    loss = tf.reduce_mean(xentropy, name='loss')\n",
    "    optimizer = tf.train.AdamOptimizer()\n",
    "    training_op = optimizer.minimize(loss)\n",
    "    \n",
    "with tf.name_scope(\"eval\"):\n",
    "    correct = tf.equal(tf.argmax(logits,axis=1), tf.argmax(y,axis=1))\n",
    "    accuracy = tf.reduce_mean(tf.cast(correct, tf.float32))\n",
    "\n",
    "with tf.name_scope(\"init\"):\n",
    "    init_op = tf.global_variables_initializer()  "
   ]
  },
  {
   "cell_type": "code",
   "execution_count": 78,
   "id": "32fa632a",
   "metadata": {},
   "outputs": [],
   "source": [
    "def scale_datasets(x_train, x_test):\n",
    "  standard_scaler = StandardScaler()\n",
    "  x_train_scaled = pd.DataFrame(\n",
    "      standard_scaler.fit_transform(x_train),\n",
    "  )\n",
    "  x_test_scaled = pd.DataFrame(\n",
    "      standard_scaler.transform(x_test),\n",
    "  )\n",
    "  return x_train_scaled, x_test_scaled"
   ]
  },
  {
   "cell_type": "code",
   "execution_count": 80,
   "id": "0699b322",
   "metadata": {},
   "outputs": [
    {
     "name": "stdout",
     "output_type": "stream",
     "text": [
      "0 Train accuracy: 0.555\n",
      "100 Train accuracy: 1.0\n",
      "200 Train accuracy: 1.0\n",
      "300 Train accuracy: 1.0\n",
      "400 Train accuracy: 1.0\n",
      "500 Train accuracy: 1.0\n",
      "600 Train accuracy: 1.0\n",
      "700 Train accuracy: 1.0\n",
      "800 Train accuracy: 1.0\n",
      "900 Train accuracy: 1.0\n",
      "1000 Train accuracy: 1.0\n",
      "1100 Train accuracy: 1.0\n",
      "1200 Train accuracy: 1.0\n",
      "1300 Train accuracy: 1.0\n",
      "1400 Train accuracy: 1.0\n",
      "1500 Train accuracy: 1.0\n",
      "1600 Train accuracy: 1.0\n",
      "1700 Train accuracy: 1.0\n",
      "1800 Train accuracy: 1.0\n",
      "1900 Train accuracy: 1.0\n",
      "2000 Train accuracy: 1.0\n",
      "2100 Train accuracy: 1.0\n",
      "2200 Train accuracy: 1.0\n",
      "2300 Train accuracy: 1.0\n",
      "2400 Train accuracy: 1.0\n",
      "2500 Train accuracy: 1.0\n",
      "2600 Train accuracy: 1.0\n",
      "2700 Train accuracy: 1.0\n",
      "2800 Train accuracy: 1.0\n",
      "2900 Train accuracy: 1.0\n",
      "0.76\n"
     ]
    }
   ],
   "source": [
    "x_train, x_test, y_train, y_test = train_test_split(x_pct_change.to_numpy(), nex_ret_greater.to_numpy(), test_size=0.2, shuffle=False)\n",
    "\n",
    "\n",
    "x_train_scaled, x_test_scaled = scale_datasets(x_train, x_test)\n",
    "with tf.Session() as sess:\n",
    "    # Run the 'init' op\n",
    "    sess.run(init_op)\n",
    "    \n",
    "    for epoch in range(n_epochs):            \n",
    "        sess.run(training_op, feed_dict={x: x_train_scaled, y: y_train})\n",
    "        \n",
    "        #Print the training accuracy       \n",
    "        if epoch % 100==0:\n",
    "            acc_train = accuracy.eval(feed_dict={x: x_train_scaled, y: y_train})\n",
    "            print(epoch, \"Train accuracy:\", acc_train)   \n",
    "    \n",
    "    output_probs = sess.run(Y_prob, feed_dict={x: x_test_scaled, y: y_test})\n",
    "    print(accuracy.eval(feed_dict={x: x_test_scaled, y: y_test}))\n",
    "\n"
   ]
  },
  {
   "cell_type": "code",
   "execution_count": 83,
   "id": "a267e974",
   "metadata": {},
   "outputs": [
    {
     "data": {
      "text/plain": [
       "array([[21,  5],\n",
       "       [ 7, 17]])"
      ]
     },
     "execution_count": 83,
     "metadata": {},
     "output_type": "execute_result"
    }
   ],
   "source": [
    "t_true = np.argmax(y_test, axis=1)\n",
    "t_predict = np.argmax(output_probs, axis=1)\n",
    "# Get the confusion matrix.\n",
    "confu = confusion_matrix(t_true, t_predict)\n",
    "confu"
   ]
  },
  {
   "cell_type": "markdown",
   "id": "bb4b4fb8",
   "metadata": {},
   "source": [
    "8.2 Run a Regression Neural Network. The difference here is the response is continuous. This value should be the weekly return that you calculated on each series. Choose a suitable number of layers, basing your result on cross-validation\n"
   ]
  },
  {
   "cell_type": "code",
   "execution_count": 96,
   "id": "4e826e40",
   "metadata": {},
   "outputs": [
    {
     "ename": "AttributeError",
     "evalue": "'Lasso' object has no attribute 'compile'",
     "output_type": "error",
     "traceback": [
      "\u001b[0;31m---------------------------------------------------------------------------\u001b[0m",
      "\u001b[0;31mAttributeError\u001b[0m                            Traceback (most recent call last)",
      "\u001b[0;32m<ipython-input-96-173799b5b614>\u001b[0m in \u001b[0;36m<module>\u001b[0;34m\u001b[0m\n\u001b[1;32m     22\u001b[0m   \u001b[0;32mreturn\u001b[0m \u001b[0mmodel\u001b[0m\u001b[0;34m\u001b[0m\u001b[0;34m\u001b[0m\u001b[0m\n\u001b[1;32m     23\u001b[0m \u001b[0;34m\u001b[0m\u001b[0m\n\u001b[0;32m---> 24\u001b[0;31m \u001b[0mmodel\u001b[0m\u001b[0;34m.\u001b[0m\u001b[0mcompile\u001b[0m\u001b[0;34m(\u001b[0m\u001b[0moptimizer\u001b[0m\u001b[0;34m=\u001b[0m\u001b[0;34m'adam'\u001b[0m\u001b[0;34m,\u001b[0m\u001b[0mloss\u001b[0m\u001b[0;34m=\u001b[0m\u001b[0;34m'mse'\u001b[0m\u001b[0;34m)\u001b[0m\u001b[0;34m\u001b[0m\u001b[0;34m\u001b[0m\u001b[0m\n\u001b[0m\u001b[1;32m     25\u001b[0m \u001b[0mhistory\u001b[0m \u001b[0;34m=\u001b[0m \u001b[0mmodel\u001b[0m\u001b[0;34m.\u001b[0m\u001b[0mfit\u001b[0m\u001b[0;34m(\u001b[0m\u001b[0mx_train_scaled\u001b[0m\u001b[0;34m,\u001b[0m\u001b[0my_train\u001b[0m\u001b[0;34m,\u001b[0m\u001b[0mepochs\u001b[0m\u001b[0;34m=\u001b[0m\u001b[0;36m300\u001b[0m\u001b[0;34m,\u001b[0m\u001b[0mvalidation_data\u001b[0m\u001b[0;34m=\u001b[0m\u001b[0;34m(\u001b[0m\u001b[0mx_test_scaled\u001b[0m\u001b[0;34m,\u001b[0m\u001b[0my_test\u001b[0m\u001b[0;34m)\u001b[0m\u001b[0;34m,\u001b[0m\u001b[0mshuffle\u001b[0m\u001b[0;34m=\u001b[0m\u001b[0;32mFalse\u001b[0m\u001b[0;34m,\u001b[0m \u001b[0mverbose\u001b[0m\u001b[0;34m=\u001b[0m\u001b[0;32mFalse\u001b[0m\u001b[0;34m)\u001b[0m\u001b[0;34m\u001b[0m\u001b[0;34m\u001b[0m\u001b[0m\n",
      "\u001b[0;31mAttributeError\u001b[0m: 'Lasso' object has no attribute 'compile'"
     ]
    }
   ],
   "source": [
    "x_train, x_test, y_train, y_test = train_test_split(x_pct_change.to_numpy(), next_ret.to_numpy(), test_size=0.2, shuffle=False)\n",
    "\n",
    "\n",
    "x_train_scaled, x_test_scaled = scale_datasets(x_train, x_test)\n",
    "\n",
    "hidden_units1 = 160\n",
    "hidden_units2 = 160\n",
    "hidden_units3 = 160\n",
    "learning_rate = 0.01\n",
    "\n",
    "def build_model_using_sequential():\n",
    "  model = Sequential([\n",
    "    LSTM(256,input_shape=(x_pct_change.shape[1],)),\n",
    "    Dropout(0.2),\n",
    "    LSTM(64,input_shape=(x_pct_change.shape[1],)),\n",
    "    Dropout(0.2),\n",
    "    LSTM(64,input_shape=(x_pct_change.shape[1],)),\n",
    "    Dropout(0.2),\n",
    "    LSTM(32,input_shape=(x_pct_change.shape[1],)),\n",
    "    Dense(1, kernel_initializer='normal', activation='linear')\n",
    "  ])\n",
    "  return model\n",
    "\n",
    "model.compile(optimizer='adam',loss='mse')\n",
    "history = model.fit(x_train_scaled,y_train,epochs=300,validation_data=(x_test_scaled,y_test),shuffle=False, verbose=False)\n"
   ]
  },
  {
   "cell_type": "code",
   "execution_count": null,
   "id": "d98f9714",
   "metadata": {},
   "outputs": [],
   "source": [
    "res = model.predict(x_train_scaled.squeeze().to_numpy())\n",
    "\n",
    "plt.plot(res, label=\"predicted return\")\n",
    "plt.plot(y_train, label=\"actual return\")\n",
    "plt.title(\"Training data accuracy\")\n",
    "plt.legend()\n",
    "plt.show()\n"
   ]
  },
  {
   "cell_type": "code",
   "execution_count": null,
   "id": "d169f085",
   "metadata": {},
   "outputs": [],
   "source": [
    "t_true = (y_test > 0).astype(int)\n",
    "t_predict = (res > 0).astype(int)\n",
    "\n",
    "confu = confusion_matrix(t_true, t_predict)\n",
    "confu"
   ]
  },
  {
   "cell_type": "code",
   "execution_count": null,
   "id": "272ed22f",
   "metadata": {},
   "outputs": [],
   "source": [
    "(confu[0][0] + confu[1][1]) / (confu[0][0] + confu[1][1] + confu[1][0] + confu[0][1])"
   ]
  },
  {
   "cell_type": "code",
   "execution_count": null,
   "id": "33bb657a",
   "metadata": {},
   "outputs": [],
   "source": [
    "sum((next_ret > 0).astype(int).squeeze()) / next_ret.shape[0]"
   ]
  }
 ],
 "metadata": {
  "kernelspec": {
   "display_name": "Python 3",
   "language": "python",
   "name": "python3"
  },
  "language_info": {
   "codemirror_mode": {
    "name": "ipython",
    "version": 3
   },
   "file_extension": ".py",
   "mimetype": "text/x-python",
   "name": "python",
   "nbconvert_exporter": "python",
   "pygments_lexer": "ipython3",
   "version": "3.7.11"
  }
 },
 "nbformat": 4,
 "nbformat_minor": 5
}
